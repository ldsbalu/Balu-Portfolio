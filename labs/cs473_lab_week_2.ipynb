{
  "cells": [
    {
      "cell_type": "markdown",
      "metadata": {
        "id": "IPir_6bCCFnZ"
      },
      "source": [
        "<a href=\"https://colab.research.google.com/github/wingated/cs473/blob/main/labs/cs473_lab_week_2.ipynb\" target=\"_parent\"><img src=\"https://colab.research.google.com/assets/colab-badge.svg\" alt=\"Open In Colab\"/></a><p><b>After clicking the \"Open in Colab\" link, copy the notebook to your own Google Drive before getting started, or it will not save your work</b></p>"
      ]
    },
    {
      "cell_type": "markdown",
      "metadata": {
        "id": "_slaQdUGCB0t"
      },
      "source": [
        "# BYU CS 473 Lab Week 2"
      ]
    },
    {
      "cell_type": "markdown",
      "metadata": {
        "id": "ct7fnkcnCL8O"
      },
      "source": [
        "## Introduction:\n",
        "Welcome to your first lab for CS 473, Advanced Machine Learning.\n",
        "\n",
        "In machine learning, models often predict *unnormalized log probabilities*. These must often be converted into regular probabilities.\n",
        "\n",
        "In this lab, you will explore the log-sum-exp function, which is described in the text (Sec. 2.5.4).  You will code up several variants of the function, and compare their performance."
      ]
    },
    {
      "cell_type": "markdown",
      "metadata": {
        "id": "PUat5xRAcdrC"
      },
      "source": [
        "# Part 1: Logsumexp\n",
        "---\n",
        "## Setup: The Iris Dataset\n",
        "We'll begin by downloading the Iris dataset. The iris dataset is a simple, but very famous, dataset introduced to the world by RA Fisher (the “father” of modern statistics”) in 1939. The dataset has five columns:\n",
        "* sepal length (cm)\n",
        "* sepal width (cm)\n",
        "* petal length (cm)\n",
        "* petal width (cm)\n",
        "* class\n",
        "\n",
        "In order to get logits to play with, we'll first train a multinomial logistic regression model (Sec. 2.5.3).  This model naturally outputs logits."
      ]
    },
    {
      "cell_type": "code",
      "execution_count": 28,
      "metadata": {
        "id": "j1m2KIHShNdC"
      },
      "outputs": [],
      "source": [
        "import datasets\n",
        "import pandas as pd\n",
        "import numpy as np\n",
        "from sklearn.preprocessing import LabelEncoder\n",
        "\n",
        "ds = datasets.load_dataset( \"scikit-learn/iris\" )\n",
        "\n",
        "df = pd.DataFrame( ds['train'] )\n",
        "\n",
        "X = np.array( df[['SepalLengthCm', 'SepalWidthCm', 'PetalLengthCm', 'PetalWidthCm']] )\n",
        "Y = np.array( LabelEncoder().fit_transform( df['Species'] ) )"
      ]
    },
    {
      "cell_type": "code",
      "execution_count": 29,
      "metadata": {
        "id": "l5hV6PS0CwT8"
      },
      "outputs": [],
      "source": [
        "from sklearn.linear_model import LogisticRegression\n",
        "\n",
        "model = LogisticRegression().fit(X,Y)\n",
        "\n",
        "W = model.coef_\n",
        "b = model.intercept_\n",
        "\n",
        "b = np.reshape( b, (3,1))\n",
        "\n",
        "logits = np.dot( W, X.T ) + b"
      ]
    },
    {
      "cell_type": "markdown",
      "metadata": {
        "id": "M_Esta7gBS1v"
      },
      "source": [
        "---\n",
        "## Exercise 1: convert logits to probabilities\n",
        "\n",
        "Since our model outputs logits, they must be converted. To do this, we'll use the softmax function."
      ]
    },
    {
      "cell_type": "code",
      "execution_count": 35,
      "metadata": {
        "id": "E3sgOg5oAvCv"
      },
      "outputs": [],
      "source": [
        "def softmax( logits ):\n",
        "    # logits is a numpy matrix of d x N\n",
        "    # where\n",
        "    #   d is the number of classes\n",
        "    #   N is the number of data points\n",
        "    # use equation 2.99 (see also Eq. 2.94)\n",
        "\n",
        "    # your code here\n",
        "\n",
        "    return np.exp(logits) / np.sum(np.exp(logits), axis=0,keepdims=True)\n",
        ""
      ]
    },
    {
      "cell_type": "code",
      "execution_count": 36,
      "metadata": {
        "colab": {
          "base_uri": "https://localhost:8080/"
        },
        "id": "qjWqdG-yKh1t",
        "outputId": "19846da7-dccc-40ac-f52d-4d84babd5345"
      },
      "outputs": [
        {
          "output_type": "execute_result",
          "data": {
            "text/plain": [
              "array([9.81747643e-01, 1.82523424e-02, 1.43429404e-08])"
            ]
          },
          "metadata": {},
          "execution_count": 36
        }
      ],
      "source": [
        "# print out test cases\n",
        "probs = softmax( logits )\n",
        "probs[:,0]"
      ]
    },
    {
      "cell_type": "markdown",
      "metadata": {
        "id": "VoXi9mq3BS1w"
      },
      "source": [
        "### test cases\n",
        "probs = softmax( logits )\n",
        "probs[:,0]\n",
        "#### array([9.81803910e-01, 1.81960759e-02, 1.43430317e-08])\n",
        "probs[:,120]\n",
        "#### array([5.49519371e-06, 2.38812718e-02, 9.76113233e-01])"
      ]
    },
    {
      "cell_type": "markdown",
      "metadata": {
        "id": "8Q64wxOyBS1w"
      },
      "source": [
        "---\n",
        "## Exercise 2: convert logits to probabilities\n",
        "\n",
        "Now, code up the logsumexp function.  What test cases should you use for this function?"
      ]
    },
    {
      "cell_type": "code",
      "execution_count": 37,
      "metadata": {
        "id": "zFzz8bqZBS1w"
      },
      "outputs": [],
      "source": [
        "def logsumexp( logits ):\n",
        "    # logits is a numpy matrix of d x N\n",
        "    # where\n",
        "    #   d is the number of classes\n",
        "    #   N is the number of data points\n",
        "    # use equation 2.100\n",
        "\n",
        "    # your code here\n",
        "    m = np.max(logits, axis=0, keepdims=True)\n",
        "    logits = logits - m\n",
        "    sum_exp = np.sum(np.exp(logits), axis=0, keepdims=True)\n",
        "    probabilities = m + np.log(sum_exp)\n",
        "    return probabilities"
      ]
    },
    {
      "cell_type": "code",
      "execution_count": 38,
      "metadata": {
        "id": "7sGtB6lNBS1w",
        "colab": {
          "base_uri": "https://localhost:8080/"
        },
        "outputId": "1328a5d3-d4ca-4bce-9d4a-eac1d715f111"
      },
      "outputs": [
        {
          "output_type": "execute_result",
          "data": {
            "text/plain": [
              "array([7.36063027])"
            ]
          },
          "metadata": {},
          "execution_count": 38
        }
      ],
      "source": [
        "# test cases\n",
        "probs = logsumexp( logits )\n",
        "probs[:,0]"
      ]
    },
    {
      "cell_type": "markdown",
      "metadata": {
        "id": "EciYRi0OKh1u"
      },
      "source": [
        "What should be printed??\n",
        "\n",
        "7.36063027"
      ]
    },
    {
      "cell_type": "markdown",
      "metadata": {
        "id": "aR9B45o8BS1w"
      },
      "source": [
        "---\n",
        "## Exercise 3: explore underflow / overlow\n",
        "\n",
        "First, code up a function that compares two distributions. This can be anything you want; you may consider things like the MSE."
      ]
    },
    {
      "cell_type": "code",
      "execution_count": 39,
      "metadata": {
        "id": "REO87dlmBS1w"
      },
      "outputs": [],
      "source": [
        "def compare_probs( probs1, probs2 ):\n",
        "    # your code here\n",
        "    mse = np.mean((probs1 - probs2)**2)\n",
        "    print(mse)\n",
        "    return mse"
      ]
    },
    {
      "cell_type": "code",
      "execution_count": 40,
      "metadata": {
        "id": "3A85oOGUBS1w",
        "colab": {
          "base_uri": "https://localhost:8080/"
        },
        "outputId": "e1c954b0-a5e6-4ca9-90ff-82b96e6265c4"
      },
      "outputs": [
        {
          "output_type": "stream",
          "name": "stdout",
          "text": [
            "24.162558229821474\n"
          ]
        },
        {
          "output_type": "execute_result",
          "data": {
            "text/plain": [
              "np.float64(24.162558229821474)"
            ]
          },
          "metadata": {},
          "execution_count": 40
        }
      ],
      "source": [
        "probs1 = softmax( logits )\n",
        "probs2 = logsumexp( logits )\n",
        "compare_probs( probs1, probs2 )"
      ]
    },
    {
      "cell_type": "markdown",
      "metadata": {
        "id": "niNMrfHJBS1w"
      },
      "source": [
        "Now, see what happens if you add (or subtract) a constant from logits. How big must the constant be before things start going haywire?"
      ]
    },
    {
      "cell_type": "code",
      "execution_count": 47,
      "metadata": {
        "id": "rYmP1Jj7BS1w",
        "colab": {
          "base_uri": "https://localhost:8080/"
        },
        "collapsed": true,
        "outputId": "dfa21667-67a9-40c2-a1b8-0420873e9ac3"
      },
      "outputs": [
        {
          "output_type": "stream",
          "name": "stdout",
          "text": [
            "24.162506048689636\n",
            "C=     0: MSE = 2.42e+01\n",
            "nan\n",
            "C=   100: MSE = nan\n",
            "nan\n",
            "C=  1000: MSE = nan\n",
            "nan\n",
            "C= 10000: MSE = nan\n",
            "nan\n",
            "C=100000.0: MSE = nan\n",
            "nan\n",
            "C=  -100: MSE = nan\n",
            "nan\n",
            "C= -1000: MSE = nan\n",
            "nan\n",
            "C=-10000: MSE = nan\n",
            "nan\n",
            "C=-100000.0: MSE = nan\n"
          ]
        },
        {
          "output_type": "stream",
          "name": "stderr",
          "text": [
            "/tmp/ipython-input-730175122.py:10: RuntimeWarning: overflow encountered in exp\n",
            "  return np.exp(logits) / np.sum(np.exp(logits), axis=0,keepdims=True)\n",
            "/tmp/ipython-input-730175122.py:10: RuntimeWarning: invalid value encountered in divide\n",
            "  return np.exp(logits) / np.sum(np.exp(logits), axis=0,keepdims=True)\n",
            "/tmp/ipython-input-1955744273.py:2: RuntimeWarning: overflow encountered in cast\n",
            "  probs1 = softmax(logits + C)\n"
          ]
        }
      ],
      "source": [
        "\n",
        "for C in [0, 100, 1000, 10000, 1e5, -100, -1000, -10000, -1e5]:\n",
        "        probs1 = softmax(logits + C)\n",
        "        mse = compare_probs(probs, probs1)\n",
        "        print(f\"C={C:6}: MSE = {mse:.2e}\")"
      ]
    },
    {
      "cell_type": "markdown",
      "metadata": {
        "id": "cMaPkTeNBS1w"
      },
      "source": [
        "Now convert the logits to 16-bit precision, and re-run your experiments. Analyze the differences you see (2-3 sentences)."
      ]
    },
    {
      "cell_type": "code",
      "execution_count": 48,
      "metadata": {
        "id": "6oxJEheOBS1w",
        "colab": {
          "base_uri": "https://localhost:8080/"
        },
        "outputId": "886fd2c4-2fa5-44df-9fc3-e91af2939fcd"
      },
      "outputs": [
        {
          "output_type": "stream",
          "name": "stdout",
          "text": [
            "24.162506048689636\n",
            "C=     0: MSE = 2.42e+01\n",
            "nan\n",
            "C=   100: MSE = nan\n",
            "nan\n",
            "C=  1000: MSE = nan\n",
            "nan\n",
            "C= 10000: MSE = nan\n",
            "nan\n",
            "C=100000.0: MSE = nan\n",
            "nan\n",
            "C=  -100: MSE = nan\n",
            "nan\n",
            "C= -1000: MSE = nan\n",
            "nan\n",
            "C=-10000: MSE = nan\n",
            "nan\n",
            "C=-100000.0: MSE = nan\n"
          ]
        },
        {
          "output_type": "stream",
          "name": "stderr",
          "text": [
            "/tmp/ipython-input-730175122.py:10: RuntimeWarning: overflow encountered in exp\n",
            "  return np.exp(logits) / np.sum(np.exp(logits), axis=0,keepdims=True)\n",
            "/tmp/ipython-input-730175122.py:10: RuntimeWarning: invalid value encountered in divide\n",
            "  return np.exp(logits) / np.sum(np.exp(logits), axis=0,keepdims=True)\n",
            "/tmp/ipython-input-1899651665.py:5: RuntimeWarning: overflow encountered in cast\n",
            "  probs1 = softmax(logits + C)\n"
          ]
        }
      ],
      "source": [
        "logits = logits.astype( np.float16 )\n",
        "\n",
        "\n",
        "for C in [0, 100, 1000, 10000, 1e5, -100, -1000, -10000, -1e5]:\n",
        "        probs1 = softmax(logits + C)\n",
        "        mse = compare_probs(probs, probs1)\n",
        "        print(f\"C={C:6}: MSE = {mse:.2e}\")"
      ]
    },
    {
      "cell_type": "markdown",
      "metadata": {
        "id": "i70jvZNEKh1u"
      },
      "source": [
        "### Analysis\n",
        "\n",
        "\n",
        "I observed if we add small comstant the output probabilites stay the same but larger constant they all become NAN."
      ]
    },
    {
      "cell_type": "markdown",
      "metadata": {
        "id": "4UZs7xOKBS1w"
      },
      "source": [
        "---\n",
        "## Exercise 4: cleanly compute log probabilities\n",
        "\n",
        "Sometimes, we want to compute log probabilities (which are different from logits), but we want to do so \"cleanly\", ie, while avoiding overflow / underflow. First, mathematically figure out what the log of the softmax is (ie, take the log of eq. 2.99), and then combine it with insights from coding up the logsumexp function. Hint: at the end of the day, you will simply shift each column by a per-column constant!"
      ]
    },
    {
      "cell_type": "code",
      "execution_count": null,
      "metadata": {
        "id": "Laus2v79BS1x"
      },
      "outputs": [],
      "source": [
        "def log_logsumexp( logits ):\n",
        "    # logits is a numpy matrix of d x N\n",
        "    # where\n",
        "    #   d is the number of classes\n",
        "    #   N is the number of data points\n",
        "\n",
        "    # your code here\n",
        "    pass"
      ]
    },
    {
      "cell_type": "code",
      "execution_count": null,
      "metadata": {
        "id": "62UvuyhYBS1x"
      },
      "outputs": [],
      "source": []
    },
    {
      "cell_type": "markdown",
      "metadata": {
        "id": "kxX04mG2zXOe"
      },
      "source": [
        "---\n",
        "# Part 2: Probability Fundamentals\n",
        "\n",
        "For the following exercises, you are encouraged to work both by hand and by code however makes the most sense.\n",
        "\n"
      ]
    },
    {
      "cell_type": "markdown",
      "metadata": {
        "id": "4Xsg221sSR_4"
      },
      "source": [
        "## Exercise 1a: Joint Probability Distributions\n",
        "\n",
        "You are given the following two binary variables, X and Y, that can each take on the values 0 or 1. Assuming X and Y are independent, calculate the joint probability table (2x2 table for P(X, Y)). Display as a numpy array.\n",
        "\n",
        "P(X=0) = 0.6\n",
        "\n",
        "P(X=1) = 0.4\n",
        "\n",
        "P(Y=0) = 0.7\n",
        "\n",
        "P(Y=1) = 0.3\n"
      ]
    },
    {
      "cell_type": "code",
      "execution_count": null,
      "metadata": {
        "id": "V7dgYZfrSQ22"
      },
      "outputs": [],
      "source": [
        "# Your code here\n"
      ]
    },
    {
      "cell_type": "markdown",
      "metadata": {
        "id": "xKat0t8w3qWY"
      },
      "source": [
        "Next, compute the following conditional probabilities:\n",
        "\n",
        "P(X=0|Y=0) = ?\n",
        "\n",
        "P(X=0|Y=1) = ?\n",
        "\n",
        "P(Y=0|X=0) = ?\n",
        "\n",
        "P(Y=0|X=1) = ?"
      ]
    },
    {
      "cell_type": "code",
      "execution_count": null,
      "metadata": {
        "id": "uoFygm9S3yPQ"
      },
      "outputs": [],
      "source": [
        "# Your code here\n"
      ]
    },
    {
      "cell_type": "markdown",
      "metadata": {
        "id": "1NT1EW_3Kh1u"
      },
      "source": [
        "Compare the result of these conditional probabilities to the original marginal probabilities given. What does this say about the relationship between variable dependence and using conditional probabilities? Write 1-2 sentences."
      ]
    },
    {
      "cell_type": "markdown",
      "metadata": {
        "id": "_AcBmxcjKh1u"
      },
      "source": [
        "(Your answer here)"
      ]
    },
    {
      "cell_type": "markdown",
      "metadata": {
        "id": "FkEO2YEbKh1u"
      },
      "source": [
        "## Exercise 1b: Joint Probability Distributions"
      ]
    },
    {
      "cell_type": "markdown",
      "metadata": {
        "id": "yz85nqMzKh1u"
      },
      "source": [
        "Now consider this joint distribution:\n",
        "\n",
        "|  | $Y = 0$ | $Y = 1$|\n",
        "| :------- | :------: | -------: |\n",
        "| $X = 0$  | 0.45  | 0.10  |\n",
        "| $X = 1$  | 0.25  | 0.20  |\n",
        "\n",
        "First, compute the marginals from the joint table"
      ]
    },
    {
      "cell_type": "code",
      "execution_count": null,
      "metadata": {
        "id": "gMjzVzPpKh1u"
      },
      "outputs": [],
      "source": [
        "joint_prob_table = np.array([[0.45, 0.10],\n",
        "                             [0.25, 0.20]])\n",
        "\n",
        "# P(X=0) = ?\n",
        "# P(X=1) = ?\n",
        "# P(Y=0) = ?\n",
        "# P(Y=1) = ?\n",
        "\n",
        "# Your answer here\n"
      ]
    },
    {
      "cell_type": "markdown",
      "metadata": {
        "id": "QHQbl-nLKh1u"
      },
      "source": [
        "Compute the same conditional probabilities as above:\n",
        "\n",
        "P(X=0|Y=0) = ?\n",
        "\n",
        "P(X=0|Y=1) = ?\n",
        "\n",
        "P(Y=0|X=0) = ?\n",
        "\n",
        "P(Y=0|X=1) = ?"
      ]
    },
    {
      "cell_type": "code",
      "execution_count": null,
      "metadata": {
        "id": "rYEuNietKh1u"
      },
      "outputs": [],
      "source": [
        "# P(X=0|Y=0) = ?\n",
        "# P(X=0|Y=1) = ?\n",
        "# P(Y=0|X=0) = ?\n",
        "# P(Y=0|X=1) = ?\n",
        "\n",
        "# Your answer here\n"
      ]
    },
    {
      "cell_type": "markdown",
      "metadata": {
        "id": "HOZEh_zYKh1v"
      },
      "source": [
        "Check if the independence property $P(X, Y) = P(X)P(Y)$ holds for any cell."
      ]
    },
    {
      "cell_type": "code",
      "execution_count": null,
      "metadata": {
        "id": "apkjA4WnKh1v"
      },
      "outputs": [],
      "source": [
        "# Your answer here\n"
      ]
    },
    {
      "cell_type": "markdown",
      "metadata": {
        "id": "PUGvFeqWKh1y"
      },
      "source": [
        "Compare P(X=0|Y=0) to P(X=0|Y=1), and discuss what this says about the dependence between these variables (1-2 sentences)."
      ]
    },
    {
      "cell_type": "markdown",
      "metadata": {
        "id": "fYA8dbs6Kh1y"
      },
      "source": [
        "(Your answer here)"
      ]
    },
    {
      "cell_type": "markdown",
      "metadata": {
        "id": "13ypkpjoKh1y"
      },
      "source": [
        "<br>"
      ]
    },
    {
      "cell_type": "markdown",
      "metadata": {
        "id": "elOEoNBWTOUj"
      },
      "source": [
        "---\n",
        "## Exercise 2: Bayes Theorem\n",
        "\n",
        "After your yearly checkup, the doctor has bad news and good news. The bad news is that you tested positive\n",
        "for a serious disease, and that the test is 99% accurate (i.e., the probability of testing positive given that you\n",
        "have the disease is 0.99, as is the probability of testing negative given that you don’t have the disease). The\n",
        "good news is that this is a rare disease, striking only one in 10,000 people. What are the chances that you\n",
        "actually have the disease? (Show your calculations as well as giving the final result.)\n",
        "\n",
        "*Hint: write out the variables you know, and think about what you'll need to calculate to find the final answer"
      ]
    },
    {
      "cell_type": "code",
      "execution_count": null,
      "metadata": {
        "id": "fWWmJ6FbCyyH"
      },
      "outputs": [],
      "source": [
        "# Your answer/work here\n"
      ]
    }
  ],
  "metadata": {
    "colab": {
      "provenance": []
    },
    "kernelspec": {
      "display_name": "Python 3",
      "language": "python",
      "name": "python3"
    },
    "language_info": {
      "codemirror_mode": {
        "name": "ipython",
        "version": 3
      },
      "file_extension": ".py",
      "mimetype": "text/x-python",
      "name": "python",
      "nbconvert_exporter": "python",
      "pygments_lexer": "ipython3",
      "version": "3.10.12"
    }
  },
  "nbformat": 4,
  "nbformat_minor": 0
}