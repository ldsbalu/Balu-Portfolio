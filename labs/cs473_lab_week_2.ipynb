{
  "cells": [
    {
      "cell_type": "markdown",
      "metadata": {
        "id": "IPir_6bCCFnZ"
      },
      "source": [
        "<a href=\"https://colab.research.google.com/github/wingated/cs473/blob/main/labs/cs473_lab_week_2.ipynb\" target=\"_parent\"><img src=\"https://colab.research.google.com/assets/colab-badge.svg\" alt=\"Open In Colab\"/></a><p><b>After clicking the \"Open in Colab\" link, copy the notebook to your own Google Drive before getting started, or it will not save your work</b></p>"
      ]
    },
    {
      "cell_type": "markdown",
      "metadata": {
        "id": "_slaQdUGCB0t"
      },
      "source": [
        "# BYU CS 473 Lab Week 2"
      ]
    },
    {
      "cell_type": "markdown",
      "metadata": {
        "id": "ct7fnkcnCL8O"
      },
      "source": [
        "## Introduction:\n",
        "Welcome to your first lab for CS 473, Advanced Machine Learning.\n",
        "\n",
        "In machine learning, models often predict *unnormalized log probabilities*. These must often be converted into regular probabilities.\n",
        "\n",
        "In this lab, you will explore the log-sum-exp function, which is described in the text (Sec. 2.5.4).  You will code up several variants of the function, and compare their performance."
      ]
    },
    {
      "cell_type": "markdown",
      "metadata": {
        "id": "PUat5xRAcdrC"
      },
      "source": [
        "# Part 1: Logsumexp\n",
        "---\n",
        "## Setup: The Iris Dataset\n",
        "We'll begin by downloading the Iris dataset. The iris dataset is a simple, but very famous, dataset introduced to the world by RA Fisher (the “father” of modern statistics”) in 1939. The dataset has five columns:\n",
        "* sepal length (cm)\n",
        "* sepal width (cm)\n",
        "* petal length (cm)\n",
        "* petal width (cm)\n",
        "* class\n",
        "\n",
        "In order to get logits to play with, we'll first train a multinomial logistic regression model (Sec. 2.5.3).  This model naturally outputs logits."
      ]
    },
    {
      "cell_type": "code",
      "execution_count": 1,
      "metadata": {
        "id": "j1m2KIHShNdC",
        "colab": {
          "base_uri": "https://localhost:8080/",
          "height": 237,
          "referenced_widgets": [
            "7920ba7cfb7c403ca197c8cf1baea495",
            "75bcc64f640f49639a79fab3525c6435",
            "b02bacbaedee4e8dbb0600258c69f631",
            "2d8a0124a102427a826c2f9c368d69ab",
            "17a60346a6eb4267857b7504e418b346",
            "4dda6e8326b5412c9010068e91925bcf",
            "6a27f496df8d48ceadc0db8e081443d1",
            "1348ac6763854feab452e88fe7d8af75",
            "008099f387f3444c9c6b61e24ca04f38",
            "348455ac4e074595868e0806b94d93bf",
            "f8b73be6f674488787a9971680d6aaad",
            "fa5a02411d5f4e79a35ba52b665b292e",
            "a9b5b9b5ce6343bfa01a769097519cf5",
            "f4fa50f58a3d4831a804c3a660b40b70",
            "64c66c42f3d0452995055aab5d926440",
            "e832cfc485b64a339754352b49f8b392",
            "497a34c561664dbb822b2c00c56a90a4",
            "58f00696381e4a789785966d4980929b",
            "e08a9ae799634287876eca47d04588d2",
            "d0722be3603348108b7cf8721e840c90",
            "14dcc5ae82084e4f96b21466eea880ec",
            "d6d176033d334d8ca14a579d481df33a",
            "0b0ee88dbc134347bd366ea326dc5386",
            "365f5c296beb4a54a1b185d0337b6e2c",
            "5c8a4fa2fb19485a8ed874ed2facf658",
            "dd86e1baba6142a58ebd66aa6a64f1ff",
            "01e3574a85944833a923e691a600b63c",
            "053f7077a61743edb83a46e71526962c",
            "0605f1383bba416dbf8d582ca4d48f77",
            "427c72b09ced435badc54d952a77efad",
            "83e842c9424c4ddb9e2e34b8d5e53a93",
            "c6335343d35b4459add886d961145365",
            "3a0f585d14304c379b995a7309f05877"
          ]
        },
        "outputId": "2d470250-111b-4ac3-96ad-d849226fa50f"
      },
      "outputs": [
        {
          "output_type": "stream",
          "name": "stderr",
          "text": [
            "/usr/local/lib/python3.12/dist-packages/huggingface_hub/utils/_auth.py:94: UserWarning: \n",
            "The secret `HF_TOKEN` does not exist in your Colab secrets.\n",
            "To authenticate with the Hugging Face Hub, create a token in your settings tab (https://huggingface.co/settings/tokens), set it as secret in your Google Colab and restart your session.\n",
            "You will be able to reuse this secret in all of your notebooks.\n",
            "Please note that authentication is recommended but still optional to access public models or datasets.\n",
            "  warnings.warn(\n"
          ]
        },
        {
          "output_type": "display_data",
          "data": {
            "text/plain": [
              "README.md: 0.00B [00:00, ?B/s]"
            ],
            "application/vnd.jupyter.widget-view+json": {
              "version_major": 2,
              "version_minor": 0,
              "model_id": "7920ba7cfb7c403ca197c8cf1baea495"
            }
          },
          "metadata": {}
        },
        {
          "output_type": "display_data",
          "data": {
            "text/plain": [
              "Iris.csv: 0.00B [00:00, ?B/s]"
            ],
            "application/vnd.jupyter.widget-view+json": {
              "version_major": 2,
              "version_minor": 0,
              "model_id": "fa5a02411d5f4e79a35ba52b665b292e"
            }
          },
          "metadata": {}
        },
        {
          "output_type": "display_data",
          "data": {
            "text/plain": [
              "Generating train split:   0%|          | 0/150 [00:00<?, ? examples/s]"
            ],
            "application/vnd.jupyter.widget-view+json": {
              "version_major": 2,
              "version_minor": 0,
              "model_id": "0b0ee88dbc134347bd366ea326dc5386"
            }
          },
          "metadata": {}
        }
      ],
      "source": [
        "import datasets\n",
        "import pandas as pd\n",
        "import numpy as np\n",
        "from sklearn.preprocessing import LabelEncoder\n",
        "\n",
        "ds = datasets.load_dataset( \"scikit-learn/iris\" )\n",
        "\n",
        "df = pd.DataFrame( ds['train'] )\n",
        "\n",
        "X = np.array( df[['SepalLengthCm', 'SepalWidthCm', 'PetalLengthCm', 'PetalWidthCm']] )\n",
        "Y = np.array( LabelEncoder().fit_transform( df['Species'] ) )"
      ]
    },
    {
      "cell_type": "code",
      "execution_count": 6,
      "metadata": {
        "id": "l5hV6PS0CwT8"
      },
      "outputs": [],
      "source": [
        "from sklearn.linear_model import LogisticRegression\n",
        "\n",
        "model = LogisticRegression().fit(X,Y)\n",
        "\n",
        "W = model.coef_ # weights for predicting right weights.\n",
        "b = model.intercept_ # bias or intercept\n",
        "\n",
        "b = np.reshape( b, (3,1)) # 2 dimensional array\n",
        "\n",
        "logits = np.dot( W, X.T ) + b # b is intercept,  doing dot product for W and X transpose.\n"
      ]
    },
    {
      "cell_type": "code",
      "source": [
        "logits"
      ],
      "metadata": {
        "colab": {
          "base_uri": "https://localhost:8080/"
        },
        "id": "-Yubuy9_CMaI",
        "outputId": "403e2c6a-dd63-47ac-d22d-cc72c3f63e05"
      },
      "execution_count": 7,
      "outputs": [
        {
          "output_type": "execute_result",
          "data": {
            "text/plain": [
              "array([[  7.34220929,   6.9456426 ,   7.47512987,   6.91728918,\n",
              "          7.48095349,   6.62790711,   7.35010476,   7.03636746,\n",
              "          7.0616021 ,   6.89800136,   7.15544574,   6.86926983,\n",
              "          7.09615725,   8.06440693,   8.03052061,   7.48602091,\n",
              "          7.63590256,   7.23414525,   6.51232571,   7.27102714,\n",
              "          6.36256726,   7.06666952,   8.65875141,   6.06943342,\n",
              "          6.11327325,   6.39919425,   6.56824052,   7.04775981,\n",
              "          7.20346508,   6.71913328,   6.58038908,   6.65043691,\n",
              "          7.73358535,   7.84646191,   6.89800136,   7.59977687,\n",
              "          7.42440567,   6.89800136,   7.40989455,   6.99391684,\n",
              "          7.52859473,   6.5853248 ,   7.60248172,   6.44840603,\n",
              "          6.15496766,   6.88002918,   7.12709232,   7.26558162,\n",
              "          7.19789636,   7.19207273,  -3.3659641 ,  -2.7153267 ,\n",
              "         -4.03186882,  -1.72379102,  -3.39495052,  -2.58721864,\n",
              "         -3.18864426,   0.71539042,  -3.12497948,  -1.06733   ,\n",
              "         -0.21623226,  -1.93966419,  -1.70814558,  -3.27278929,\n",
              "         -0.18048468,  -2.57890924,  -2.56830892,  -1.39377528,\n",
              "         -3.59336131,  -1.10552753,  -3.5832623 ,  -1.4970268 ,\n",
              "         -4.35492662,  -3.1529548 ,  -2.28408166,  -2.63275221,\n",
              "         -3.91823606,  -4.51138811,  -2.83440498,   0.06437492,\n",
              "         -0.90737164,  -0.54730874,  -1.10590563,  -4.64704936,\n",
              "         -2.48340768,  -2.46100109,  -3.44296986,  -3.07139141,\n",
              "         -1.3441854 ,  -1.53120385,  -2.33484167,  -2.92449684,\n",
              "         -1.45419808,   0.57664622,  -1.88506502,  -1.53057084,\n",
              "         -1.73492847,  -2.19918042,   1.37471531,  -1.57922319,\n",
              "         -7.43720579,  -4.88634023,  -7.38143648,  -6.05793642,\n",
              "         -6.98279795,  -9.3576816 ,  -2.96875059,  -8.24643464,\n",
              "         -7.11691096,  -7.78237946,  -4.81009067,  -5.64504167,\n",
              "         -6.24608918,  -4.89254196,  -5.33036683,  -5.59582989,\n",
              "         -5.79454521,  -8.98984644, -10.75743122,  -4.76845439,\n",
              "         -6.81607843,  -4.30921172,  -9.73665422,  -4.48653156,\n",
              "         -6.41875553,  -7.15910668,  -4.0957885 ,  -4.11274957,\n",
              "         -6.52087274,  -6.63156805,  -7.98924516,  -8.10262302,\n",
              "         -6.62893678,  -4.57004359,  -5.82965979,  -8.35626599,\n",
              "         -6.22485272,  -5.65580101,  -3.81830009,  -5.94024735,\n",
              "         -6.68353595,  -5.40037884,  -4.88634023,  -7.27762553,\n",
              "         -6.85101168,  -5.66377005,  -5.03918163,  -5.2546767 ,\n",
              "         -5.57034034,  -4.53184606],\n",
              "       [  3.35716841,   3.40872583,   3.25903224,   3.19620897,\n",
              "          3.27205267,   3.14077049,   3.0275232 ,   3.31488303,\n",
              "          3.1732519 ,   3.45067509,   3.4335571 ,   3.18748191,\n",
              "          3.4494655 ,   3.24392112,   3.61384485,   3.18372048,\n",
              "          3.22292207,   3.26299713,   3.42692074,   3.14740685,\n",
              "          3.48753369,   3.0849197 ,   3.1404778 ,   3.07640914,\n",
              "          3.12586823,   3.42108165,   3.10600258,   3.39006213,\n",
              "          3.44228416,   3.19741856,   3.2825343 ,   3.34026692,\n",
              "          3.29412864,   3.34910597,   3.45067509,   3.43986498,\n",
              "          3.59143276,   3.45067509,   3.16210566,   3.36831465,\n",
              "          3.23010342,   3.34315489,   3.09873741,   2.88597588,\n",
              "          2.97108399,   3.26112294,   3.22104024,   3.18506274,\n",
              "          3.38012549,   3.36710506,   2.65961551,   2.28593034,\n",
              "          2.50262095,   2.38123502,   2.44556057,   2.22698813,\n",
              "          2.06556752,   2.45524033,   2.65565062,   2.02057028,\n",
              "          2.59433267,   2.14375422,   2.96259106,   2.27378338,\n",
              "          2.32671344,   2.59261848,   1.92184569,   2.6767693 ,\n",
              "          2.4959084 ,   2.58017884,   1.67464474,   2.54340406,\n",
              "          2.37213604,   2.49381007,   2.61040108,   2.570871  ,\n",
              "          2.6589509 ,   2.21856139,   2.16725627,   2.77824918,\n",
              "          2.57896925,   2.69367843,   2.52950252,   2.01322587,\n",
              "          1.81498247,   1.91466435,   2.43683351,   2.72653634,\n",
              "          2.19233984,   2.31786676,   2.29820234,   2.26263714,\n",
              "          2.54064876,   2.54035607,   2.26685433,   2.31940484,\n",
              "          2.25691768,   2.50353785,   2.49786183,   2.30913971,\n",
              "          0.95103334,   1.6238488 ,   1.87076165,   1.81912041,\n",
              "          1.47653859,   1.99415445,   1.51790248,   2.20967127,\n",
              "          2.11850759,   1.31632758,   1.74527817,   1.90336269,\n",
              "          1.7926184 ,   1.56015206,   1.12130826,   1.36825692,\n",
              "          1.91483741,   1.67940386,   1.92436633,   2.28635569,\n",
              "          1.5532634 ,   1.43220596,   2.18458771,   2.02625394,\n",
              "          1.60305861,   2.12280096,   1.96167609,   1.82433833,\n",
              "          1.62172231,   2.41558757,   2.24169152,   2.03622333,\n",
              "          1.52755103,   2.23600787,   2.1839947 ,   1.96193298,\n",
              "          1.09567208,   1.82972166,   1.79144461,   1.83490378,\n",
              "          1.40445092,   1.7081749 ,   1.6238488 ,   1.45875599,\n",
              "          1.22637348,   1.61245791,   1.97491302,   1.78810853,\n",
              "          1.17748754,   1.67639931],\n",
              "       [-10.6993777 , -10.35436843, -10.73416211, -10.11349814,\n",
              "        -10.75300616,  -9.7686776 , -10.37762795, -10.35125049,\n",
              "        -10.234854  , -10.34867645, -10.58900284, -10.05675175,\n",
              "        -10.54562275, -11.30832805, -11.64436546, -10.66974138,\n",
              "        -10.85882463, -10.49714238,  -9.93924645, -10.41843399,\n",
              "         -9.85010096, -10.15158922, -11.79922921,  -9.14584256,\n",
              "         -9.23914148,  -9.82027591,  -9.6742431 , -10.43782194,\n",
              "        -10.64574924,  -9.91655184,  -9.86292338,  -9.99070383,\n",
              "        -11.027714  , -11.19556788, -10.34867645, -11.03964185,\n",
              "        -11.01583843, -10.34867645, -10.57200021, -10.36223149,\n",
              "        -10.75869814,  -9.92847969, -10.70121913,  -9.33438192,\n",
              "         -9.12605165, -10.14115211, -10.34813256, -10.45064436,\n",
              "        -10.57802185, -10.55917779,   0.70634859,   0.42939636,\n",
              "          1.52924787,  -0.657444  ,   0.94938995,   0.36023051,\n",
              "          1.12307673,  -3.17063075,   0.46932886,  -0.95324028,\n",
              "         -2.3781004 ,  -0.20409002,  -1.25444547,   0.99900591,\n",
              "         -2.14622877,  -0.01370924,   0.64646323,  -1.28299401,\n",
              "          1.09745292,  -1.47465131,   1.90861756,  -1.04637725,\n",
              "          1.98279058,   0.65914473,  -0.32631942,   0.06188121,\n",
              "          1.25928516,   2.29282672,   0.66714871,  -2.8426241 ,\n",
              "         -1.67159761,  -2.14636969,  -1.42359689,   2.63382348,\n",
              "          0.66842522,   0.54633674,   1.00613635,   0.34485507,\n",
              "         -0.84815444,  -0.78666292,   0.03663934,   0.6618597 ,\n",
              "         -1.08645067,  -3.11700229,  -0.38178931,  -0.78883399,\n",
              "         -0.52198922,  -0.30435743,  -3.87257715,  -0.72991652,\n",
              "          6.48617245,   3.26249143,   5.51067483,   4.23881601,\n",
              "          5.50625936,   7.36352716,   1.45084811,   6.03676337,\n",
              "          4.99840337,   6.46605188,   3.0648125 ,   3.74167898,\n",
              "          4.45347078,   3.3323899 ,   4.20905857,   4.22757297,\n",
              "          3.87970781,   7.31044258,   8.8330649 ,   2.48209869,\n",
              "          5.26281503,   2.87700577,   7.55206651,   2.46027763,\n",
              "          4.81569692,   5.03630572,   2.13411241,   2.28841124,\n",
              "          4.89915043,   4.21598048,   5.74755363,   6.06639968,\n",
              "          5.10138575,   2.33403572,   3.64566509,   6.39433301,\n",
              "          5.12918064,   3.82607935,   2.02685548,   4.10534357,\n",
              "          5.27908503,   3.69220394,   3.26249143,   5.81886954,\n",
              "          5.6246382 ,   4.05131214,   3.06426861,   3.46656818,\n",
              "          4.3928528 ,   2.85544675]])"
            ]
          },
          "metadata": {},
          "execution_count": 7
        }
      ]
    },
    {
      "cell_type": "markdown",
      "metadata": {
        "id": "M_Esta7gBS1v"
      },
      "source": [
        "---\n",
        "## Exercise 1: convert logits to probabilities\n",
        "\n",
        "Since our model outputs logits, they must be converted. To do this, we'll use the softmax function."
      ]
    },
    {
      "cell_type": "code",
      "execution_count": 20,
      "metadata": {
        "id": "E3sgOg5oAvCv"
      },
      "outputs": [],
      "source": [
        "def softmax( logits ):\n",
        "    # logits is a numpy matrix of d x N\n",
        "    # where\n",
        "    #   d is the number of classes\n",
        "    #   N is the number of data points\n",
        "    # use equation 2.99 (see also Eq. 2.94)\n",
        "\n",
        "    # your code here\n",
        "    m = np.max(logits)\n",
        "    logits = logits - m\n",
        "    return np.exp(logits) / np.sum(np.exp(logits), axis=0)\n",
        "\n"
      ]
    },
    {
      "cell_type": "code",
      "execution_count": 19,
      "metadata": {
        "colab": {
          "base_uri": "https://localhost:8080/"
        },
        "id": "K9dGFp_Mp4y-",
        "outputId": "fdb02183-44df-408e-fc38-69d5d752d523"
      },
      "outputs": [
        {
          "output_type": "execute_result",
          "data": {
            "text/plain": [
              "array([5.54234723e-06, 2.39030160e-02, 9.76091442e-01])"
            ]
          },
          "metadata": {},
          "execution_count": 19
        }
      ],
      "source": [
        "# print out test cases\n",
        "probs = softmax( logits )\n",
        "probs[:,120]\n"
      ]
    },
    {
      "cell_type": "markdown",
      "metadata": {
        "id": "VoXi9mq3BS1w"
      },
      "source": [
        "### test cases\n",
        "probs = softmax( logits )\n",
        "probs[:,0]\n",
        "#### array([9.81803910e-01, 1.81960759e-02, 1.43430317e-08])\n",
        "probs[:,120]\n",
        "#### array([5.49519371e-06, 2.38812718e-02, 9.76113233e-01])"
      ]
    },
    {
      "cell_type": "markdown",
      "metadata": {
        "id": "8Q64wxOyBS1w"
      },
      "source": [
        "---\n",
        "## Exercise 2: convert logits to probabilities\n",
        "\n",
        "Now, code up the logsumexp function.  What test cases should you use for this function?"
      ]
    },
    {
      "cell_type": "code",
      "execution_count": null,
      "metadata": {
        "id": "zFzz8bqZBS1w"
      },
      "outputs": [],
      "source": [
        "def logsumexp( logits ):\n",
        "    # logits is a numpy matrix of d x N\n",
        "    # where\n",
        "    #   d is the number of classes\n",
        "    #   N is the number of data points\n",
        "    # use equation 2.100\n",
        "\n",
        "    # your code here\n",
        "    pass"
      ]
    },
    {
      "cell_type": "code",
      "execution_count": null,
      "metadata": {
        "id": "7sGtB6lNBS1w"
      },
      "outputs": [],
      "source": [
        "# test cases\n",
        "probs = logsumexp( logits )\n",
        "probs[:,0]"
      ]
    },
    {
      "cell_type": "markdown",
      "metadata": {
        "id": "hmFYWlsmp4y-"
      },
      "source": [
        "What should be printed??\n",
        "\n",
        "(your answer here)"
      ]
    },
    {
      "cell_type": "markdown",
      "metadata": {
        "id": "aR9B45o8BS1w"
      },
      "source": [
        "---\n",
        "## Exercise 3: explore underflow / overlow\n",
        "\n",
        "First, code up a function that compares two distributions. This can be anything you want; you may consider things like the MSE."
      ]
    },
    {
      "cell_type": "code",
      "execution_count": null,
      "metadata": {
        "id": "REO87dlmBS1w"
      },
      "outputs": [],
      "source": [
        "def compare_probs( probs1, probs2 ):\n",
        "    # your code here\n",
        "    pass"
      ]
    },
    {
      "cell_type": "code",
      "execution_count": null,
      "metadata": {
        "id": "3A85oOGUBS1w"
      },
      "outputs": [],
      "source": [
        "probs1 = softmax( logits )\n",
        "probs2 = logsumexp( logits )\n",
        "compare_probs( probs1, probs2 )"
      ]
    },
    {
      "cell_type": "markdown",
      "metadata": {
        "id": "niNMrfHJBS1w"
      },
      "source": [
        "Now, see what happens if you add (or subtract) a constant from logits. How big must the constant be before things start going haywire?"
      ]
    },
    {
      "cell_type": "code",
      "execution_count": null,
      "metadata": {
        "id": "rYmP1Jj7BS1w"
      },
      "outputs": [],
      "source": [
        "# your code here\n",
        "probs1 = softmax( logits + C )\n",
        "# etc."
      ]
    },
    {
      "cell_type": "markdown",
      "metadata": {
        "id": "cMaPkTeNBS1w"
      },
      "source": [
        "Now convert the logits to 16-bit precision, and re-run your experiments. Analyze the differences you see (2-3 sentences)."
      ]
    },
    {
      "cell_type": "code",
      "execution_count": null,
      "metadata": {
        "id": "6oxJEheOBS1w"
      },
      "outputs": [],
      "source": [
        "logits = logits.astype( np.float16 )\n",
        "\n",
        "# your code here\n",
        "probs1 = softmax( logits + C )\n",
        "# etc."
      ]
    },
    {
      "cell_type": "markdown",
      "metadata": {
        "id": "-26ynOckp4y_"
      },
      "source": [
        "### Analysis\n",
        "\n",
        "(Your analysis here)"
      ]
    },
    {
      "cell_type": "markdown",
      "metadata": {
        "id": "4UZs7xOKBS1w"
      },
      "source": [
        "---\n",
        "## Exercise 4: cleanly compute log probabilities\n",
        "\n",
        "Sometimes, we want to compute log probabilities (which are different from logits), but we want to do so \"cleanly\", ie, while avoiding overflow / underflow. First, mathematically figure out what the log of the softmax is (ie, take the log of eq. 2.99), and then combine it with insights from coding up the logsumexp function. Hint: at the end of the day, you will simply shift each column by a per-column constant!"
      ]
    },
    {
      "cell_type": "code",
      "execution_count": null,
      "metadata": {
        "id": "Laus2v79BS1x"
      },
      "outputs": [],
      "source": [
        "def log_logsumexp( logits ):\n",
        "    # logits is a numpy matrix of d x N\n",
        "    # where\n",
        "    #   d is the number of classes\n",
        "    #   N is the number of data points\n",
        "\n",
        "    # your code here\n",
        "    pass"
      ]
    },
    {
      "cell_type": "code",
      "execution_count": null,
      "metadata": {
        "id": "62UvuyhYBS1x"
      },
      "outputs": [],
      "source": []
    },
    {
      "cell_type": "markdown",
      "metadata": {
        "id": "kxX04mG2zXOe"
      },
      "source": [
        "---\n",
        "# Part 2: Probability Fundamentals\n",
        "\n",
        "For the following exercises, you are encouraged to work both by hand and by code however makes the most sense.\n",
        "\n"
      ]
    },
    {
      "cell_type": "markdown",
      "metadata": {
        "id": "4Xsg221sSR_4"
      },
      "source": [
        "## Exercise 1a: Joint Probability Distributions\n",
        "\n",
        "You are given the following two binary variables, X and Y, that can each take on the values 0 or 1. Assuming X and Y are independent, calculate the joint probability table (2x2 table for P(X, Y)). Display as a numpy array.\n",
        "\n",
        "P(X=0) = 0.6\n",
        "\n",
        "P(X=1) = 0.4\n",
        "\n",
        "P(Y=0) = 0.7\n",
        "\n",
        "P(Y=1) = 0.3\n"
      ]
    },
    {
      "cell_type": "code",
      "execution_count": null,
      "metadata": {
        "id": "V7dgYZfrSQ22"
      },
      "outputs": [],
      "source": [
        "# Your code here\n"
      ]
    },
    {
      "cell_type": "markdown",
      "metadata": {
        "id": "xKat0t8w3qWY"
      },
      "source": [
        "Next, compute the following conditional probabilities:\n",
        "\n",
        "P(X=0|Y=0) = ?\n",
        "\n",
        "P(X=0|Y=1) = ?\n",
        "\n",
        "P(Y=0|X=0) = ?\n",
        "\n",
        "P(Y=0|X=1) = ?"
      ]
    },
    {
      "cell_type": "code",
      "execution_count": null,
      "metadata": {
        "id": "uoFygm9S3yPQ"
      },
      "outputs": [],
      "source": [
        "# Your code here\n"
      ]
    },
    {
      "cell_type": "markdown",
      "metadata": {
        "id": "jg8RYGVSp4y_"
      },
      "source": [
        "Compare the result of these conditional probabilities to the original marginal probabilities given. What does this say about the relationship between variable dependence and using conditional probabilities? Write 1-2 sentences."
      ]
    },
    {
      "cell_type": "markdown",
      "metadata": {
        "id": "U6B8o7Gsp4y_"
      },
      "source": [
        "(Your answer here)"
      ]
    },
    {
      "cell_type": "markdown",
      "metadata": {
        "id": "4yzd4U8Fp4y_"
      },
      "source": [
        "## Exercise 1b: Joint Probability Distributions"
      ]
    },
    {
      "cell_type": "markdown",
      "metadata": {
        "id": "ZPR62bgUp4y_"
      },
      "source": [
        "Now consider this joint distribution:\n",
        "\n",
        "|  | $Y = 0$ | $Y = 1$|\n",
        "| :------- | :------: | -------: |\n",
        "| $X = 0$  | 0.45  | 0.10  |\n",
        "| $X = 1$  | 0.25  | 0.20  |\n",
        "\n",
        "First, compute the marginals from the joint table"
      ]
    },
    {
      "cell_type": "code",
      "execution_count": null,
      "metadata": {
        "id": "1fGtRQSfp4y_"
      },
      "outputs": [],
      "source": [
        "joint_prob_table = np.array([[0.45, 0.10],\n",
        "                             [0.25, 0.20]])\n",
        "\n",
        "# P(X=0) = ?\n",
        "# P(X=1) = ?\n",
        "# P(Y=0) = ?\n",
        "# P(Y=1) = ?\n",
        "\n",
        "# Your answer here\n"
      ]
    },
    {
      "cell_type": "markdown",
      "metadata": {
        "id": "mtpMfNkVp4y_"
      },
      "source": [
        "Compute the same conditional probabilities as above:\n",
        "\n",
        "P(X=0|Y=0) = ?\n",
        "\n",
        "P(X=0|Y=1) = ?\n",
        "\n",
        "P(Y=0|X=0) = ?\n",
        "\n",
        "P(Y=0|X=1) = ?"
      ]
    },
    {
      "cell_type": "code",
      "execution_count": null,
      "metadata": {
        "id": "wGbVS5Rip4y_"
      },
      "outputs": [],
      "source": [
        "# P(X=0|Y=0) = ?\n",
        "# P(X=0|Y=1) = ?\n",
        "# P(Y=0|X=0) = ?\n",
        "# P(Y=0|X=1) = ?\n",
        "\n",
        "# Your answer here\n"
      ]
    },
    {
      "cell_type": "markdown",
      "metadata": {
        "id": "1MbcAdIup4y_"
      },
      "source": [
        "Check if the independence property $P(X, Y) = P(X)P(Y)$ holds for any cell."
      ]
    },
    {
      "cell_type": "code",
      "execution_count": null,
      "metadata": {
        "id": "cLWOVTiip4y_"
      },
      "outputs": [],
      "source": [
        "# Your answer here\n"
      ]
    },
    {
      "cell_type": "markdown",
      "metadata": {
        "id": "58TYyAKEp4zH"
      },
      "source": [
        "Compare P(X=0|Y=0) to P(X=0|Y=1), and discuss what this says about the dependence between these variables (1-2 sentences)."
      ]
    },
    {
      "cell_type": "markdown",
      "metadata": {
        "id": "VVRVjaZwp4zH"
      },
      "source": [
        "(Your answer here)"
      ]
    },
    {
      "cell_type": "markdown",
      "metadata": {
        "id": "3najeyt_p4zH"
      },
      "source": [
        "<br>"
      ]
    },
    {
      "cell_type": "markdown",
      "metadata": {
        "id": "elOEoNBWTOUj"
      },
      "source": [
        "---\n",
        "## Exercise 2: Bayes Theorem\n",
        "\n",
        "After your yearly checkup, the doctor has bad news and good news. The bad news is that you tested positive\n",
        "for a serious disease, and that the test is 99% accurate (i.e., the probability of testing positive given that you\n",
        "have the disease is 0.99, as is the probability of testing negative given that you don’t have the disease). The\n",
        "good news is that this is a rare disease, striking only one in 10,000 people. What are the chances that you\n",
        "actually have the disease? (Show your calculations as well as giving the final result.)\n",
        "\n",
        "*Hint: write out the variables you know, and think about what you'll need to calculate to find the final answer"
      ]
    },
    {
      "cell_type": "code",
      "execution_count": null,
      "metadata": {
        "id": "fWWmJ6FbCyyH"
      },
      "outputs": [],
      "source": [
        "# Your answer/work here\n"
      ]
    }
  ],
  "metadata": {
    "colab": {
      "provenance": []
    },
    "kernelspec": {
      "display_name": "Python 3",
      "language": "python",
      "name": "python3"
    },
    "language_info": {
      "codemirror_mode": {
        "name": "ipython",
        "version": 3
      },
      "file_extension": ".py",
      "mimetype": "text/x-python",
      "name": "python",
      "nbconvert_exporter": "python",
      "pygments_lexer": "ipython3",
      "version": "3.10.12"
    },
    "widgets": {
      "application/vnd.jupyter.widget-state+json": {
        "7920ba7cfb7c403ca197c8cf1baea495": {
          "model_module": "@jupyter-widgets/controls",
          "model_name": "HBoxModel",
          "model_module_version": "1.5.0",
          "state": {
            "_dom_classes": [],
            "_model_module": "@jupyter-widgets/controls",
            "_model_module_version": "1.5.0",
            "_model_name": "HBoxModel",
            "_view_count": null,
            "_view_module": "@jupyter-widgets/controls",
            "_view_module_version": "1.5.0",
            "_view_name": "HBoxView",
            "box_style": "",
            "children": [
              "IPY_MODEL_75bcc64f640f49639a79fab3525c6435",
              "IPY_MODEL_b02bacbaedee4e8dbb0600258c69f631",
              "IPY_MODEL_2d8a0124a102427a826c2f9c368d69ab"
            ],
            "layout": "IPY_MODEL_17a60346a6eb4267857b7504e418b346"
          }
        },
        "75bcc64f640f49639a79fab3525c6435": {
          "model_module": "@jupyter-widgets/controls",
          "model_name": "HTMLModel",
          "model_module_version": "1.5.0",
          "state": {
            "_dom_classes": [],
            "_model_module": "@jupyter-widgets/controls",
            "_model_module_version": "1.5.0",
            "_model_name": "HTMLModel",
            "_view_count": null,
            "_view_module": "@jupyter-widgets/controls",
            "_view_module_version": "1.5.0",
            "_view_name": "HTMLView",
            "description": "",
            "description_tooltip": null,
            "layout": "IPY_MODEL_4dda6e8326b5412c9010068e91925bcf",
            "placeholder": "​",
            "style": "IPY_MODEL_6a27f496df8d48ceadc0db8e081443d1",
            "value": "README.md: "
          }
        },
        "b02bacbaedee4e8dbb0600258c69f631": {
          "model_module": "@jupyter-widgets/controls",
          "model_name": "FloatProgressModel",
          "model_module_version": "1.5.0",
          "state": {
            "_dom_classes": [],
            "_model_module": "@jupyter-widgets/controls",
            "_model_module_version": "1.5.0",
            "_model_name": "FloatProgressModel",
            "_view_count": null,
            "_view_module": "@jupyter-widgets/controls",
            "_view_module_version": "1.5.0",
            "_view_name": "ProgressView",
            "bar_style": "success",
            "description": "",
            "description_tooltip": null,
            "layout": "IPY_MODEL_1348ac6763854feab452e88fe7d8af75",
            "max": 1,
            "min": 0,
            "orientation": "horizontal",
            "style": "IPY_MODEL_008099f387f3444c9c6b61e24ca04f38",
            "value": 1
          }
        },
        "2d8a0124a102427a826c2f9c368d69ab": {
          "model_module": "@jupyter-widgets/controls",
          "model_name": "HTMLModel",
          "model_module_version": "1.5.0",
          "state": {
            "_dom_classes": [],
            "_model_module": "@jupyter-widgets/controls",
            "_model_module_version": "1.5.0",
            "_model_name": "HTMLModel",
            "_view_count": null,
            "_view_module": "@jupyter-widgets/controls",
            "_view_module_version": "1.5.0",
            "_view_name": "HTMLView",
            "description": "",
            "description_tooltip": null,
            "layout": "IPY_MODEL_348455ac4e074595868e0806b94d93bf",
            "placeholder": "​",
            "style": "IPY_MODEL_f8b73be6f674488787a9971680d6aaad",
            "value": " 1.66k/? [00:00&lt;00:00, 46.0kB/s]"
          }
        },
        "17a60346a6eb4267857b7504e418b346": {
          "model_module": "@jupyter-widgets/base",
          "model_name": "LayoutModel",
          "model_module_version": "1.2.0",
          "state": {
            "_model_module": "@jupyter-widgets/base",
            "_model_module_version": "1.2.0",
            "_model_name": "LayoutModel",
            "_view_count": null,
            "_view_module": "@jupyter-widgets/base",
            "_view_module_version": "1.2.0",
            "_view_name": "LayoutView",
            "align_content": null,
            "align_items": null,
            "align_self": null,
            "border": null,
            "bottom": null,
            "display": null,
            "flex": null,
            "flex_flow": null,
            "grid_area": null,
            "grid_auto_columns": null,
            "grid_auto_flow": null,
            "grid_auto_rows": null,
            "grid_column": null,
            "grid_gap": null,
            "grid_row": null,
            "grid_template_areas": null,
            "grid_template_columns": null,
            "grid_template_rows": null,
            "height": null,
            "justify_content": null,
            "justify_items": null,
            "left": null,
            "margin": null,
            "max_height": null,
            "max_width": null,
            "min_height": null,
            "min_width": null,
            "object_fit": null,
            "object_position": null,
            "order": null,
            "overflow": null,
            "overflow_x": null,
            "overflow_y": null,
            "padding": null,
            "right": null,
            "top": null,
            "visibility": null,
            "width": null
          }
        },
        "4dda6e8326b5412c9010068e91925bcf": {
          "model_module": "@jupyter-widgets/base",
          "model_name": "LayoutModel",
          "model_module_version": "1.2.0",
          "state": {
            "_model_module": "@jupyter-widgets/base",
            "_model_module_version": "1.2.0",
            "_model_name": "LayoutModel",
            "_view_count": null,
            "_view_module": "@jupyter-widgets/base",
            "_view_module_version": "1.2.0",
            "_view_name": "LayoutView",
            "align_content": null,
            "align_items": null,
            "align_self": null,
            "border": null,
            "bottom": null,
            "display": null,
            "flex": null,
            "flex_flow": null,
            "grid_area": null,
            "grid_auto_columns": null,
            "grid_auto_flow": null,
            "grid_auto_rows": null,
            "grid_column": null,
            "grid_gap": null,
            "grid_row": null,
            "grid_template_areas": null,
            "grid_template_columns": null,
            "grid_template_rows": null,
            "height": null,
            "justify_content": null,
            "justify_items": null,
            "left": null,
            "margin": null,
            "max_height": null,
            "max_width": null,
            "min_height": null,
            "min_width": null,
            "object_fit": null,
            "object_position": null,
            "order": null,
            "overflow": null,
            "overflow_x": null,
            "overflow_y": null,
            "padding": null,
            "right": null,
            "top": null,
            "visibility": null,
            "width": null
          }
        },
        "6a27f496df8d48ceadc0db8e081443d1": {
          "model_module": "@jupyter-widgets/controls",
          "model_name": "DescriptionStyleModel",
          "model_module_version": "1.5.0",
          "state": {
            "_model_module": "@jupyter-widgets/controls",
            "_model_module_version": "1.5.0",
            "_model_name": "DescriptionStyleModel",
            "_view_count": null,
            "_view_module": "@jupyter-widgets/base",
            "_view_module_version": "1.2.0",
            "_view_name": "StyleView",
            "description_width": ""
          }
        },
        "1348ac6763854feab452e88fe7d8af75": {
          "model_module": "@jupyter-widgets/base",
          "model_name": "LayoutModel",
          "model_module_version": "1.2.0",
          "state": {
            "_model_module": "@jupyter-widgets/base",
            "_model_module_version": "1.2.0",
            "_model_name": "LayoutModel",
            "_view_count": null,
            "_view_module": "@jupyter-widgets/base",
            "_view_module_version": "1.2.0",
            "_view_name": "LayoutView",
            "align_content": null,
            "align_items": null,
            "align_self": null,
            "border": null,
            "bottom": null,
            "display": null,
            "flex": null,
            "flex_flow": null,
            "grid_area": null,
            "grid_auto_columns": null,
            "grid_auto_flow": null,
            "grid_auto_rows": null,
            "grid_column": null,
            "grid_gap": null,
            "grid_row": null,
            "grid_template_areas": null,
            "grid_template_columns": null,
            "grid_template_rows": null,
            "height": null,
            "justify_content": null,
            "justify_items": null,
            "left": null,
            "margin": null,
            "max_height": null,
            "max_width": null,
            "min_height": null,
            "min_width": null,
            "object_fit": null,
            "object_position": null,
            "order": null,
            "overflow": null,
            "overflow_x": null,
            "overflow_y": null,
            "padding": null,
            "right": null,
            "top": null,
            "visibility": null,
            "width": "20px"
          }
        },
        "008099f387f3444c9c6b61e24ca04f38": {
          "model_module": "@jupyter-widgets/controls",
          "model_name": "ProgressStyleModel",
          "model_module_version": "1.5.0",
          "state": {
            "_model_module": "@jupyter-widgets/controls",
            "_model_module_version": "1.5.0",
            "_model_name": "ProgressStyleModel",
            "_view_count": null,
            "_view_module": "@jupyter-widgets/base",
            "_view_module_version": "1.2.0",
            "_view_name": "StyleView",
            "bar_color": null,
            "description_width": ""
          }
        },
        "348455ac4e074595868e0806b94d93bf": {
          "model_module": "@jupyter-widgets/base",
          "model_name": "LayoutModel",
          "model_module_version": "1.2.0",
          "state": {
            "_model_module": "@jupyter-widgets/base",
            "_model_module_version": "1.2.0",
            "_model_name": "LayoutModel",
            "_view_count": null,
            "_view_module": "@jupyter-widgets/base",
            "_view_module_version": "1.2.0",
            "_view_name": "LayoutView",
            "align_content": null,
            "align_items": null,
            "align_self": null,
            "border": null,
            "bottom": null,
            "display": null,
            "flex": null,
            "flex_flow": null,
            "grid_area": null,
            "grid_auto_columns": null,
            "grid_auto_flow": null,
            "grid_auto_rows": null,
            "grid_column": null,
            "grid_gap": null,
            "grid_row": null,
            "grid_template_areas": null,
            "grid_template_columns": null,
            "grid_template_rows": null,
            "height": null,
            "justify_content": null,
            "justify_items": null,
            "left": null,
            "margin": null,
            "max_height": null,
            "max_width": null,
            "min_height": null,
            "min_width": null,
            "object_fit": null,
            "object_position": null,
            "order": null,
            "overflow": null,
            "overflow_x": null,
            "overflow_y": null,
            "padding": null,
            "right": null,
            "top": null,
            "visibility": null,
            "width": null
          }
        },
        "f8b73be6f674488787a9971680d6aaad": {
          "model_module": "@jupyter-widgets/controls",
          "model_name": "DescriptionStyleModel",
          "model_module_version": "1.5.0",
          "state": {
            "_model_module": "@jupyter-widgets/controls",
            "_model_module_version": "1.5.0",
            "_model_name": "DescriptionStyleModel",
            "_view_count": null,
            "_view_module": "@jupyter-widgets/base",
            "_view_module_version": "1.2.0",
            "_view_name": "StyleView",
            "description_width": ""
          }
        },
        "fa5a02411d5f4e79a35ba52b665b292e": {
          "model_module": "@jupyter-widgets/controls",
          "model_name": "HBoxModel",
          "model_module_version": "1.5.0",
          "state": {
            "_dom_classes": [],
            "_model_module": "@jupyter-widgets/controls",
            "_model_module_version": "1.5.0",
            "_model_name": "HBoxModel",
            "_view_count": null,
            "_view_module": "@jupyter-widgets/controls",
            "_view_module_version": "1.5.0",
            "_view_name": "HBoxView",
            "box_style": "",
            "children": [
              "IPY_MODEL_a9b5b9b5ce6343bfa01a769097519cf5",
              "IPY_MODEL_f4fa50f58a3d4831a804c3a660b40b70",
              "IPY_MODEL_64c66c42f3d0452995055aab5d926440"
            ],
            "layout": "IPY_MODEL_e832cfc485b64a339754352b49f8b392"
          }
        },
        "a9b5b9b5ce6343bfa01a769097519cf5": {
          "model_module": "@jupyter-widgets/controls",
          "model_name": "HTMLModel",
          "model_module_version": "1.5.0",
          "state": {
            "_dom_classes": [],
            "_model_module": "@jupyter-widgets/controls",
            "_model_module_version": "1.5.0",
            "_model_name": "HTMLModel",
            "_view_count": null,
            "_view_module": "@jupyter-widgets/controls",
            "_view_module_version": "1.5.0",
            "_view_name": "HTMLView",
            "description": "",
            "description_tooltip": null,
            "layout": "IPY_MODEL_497a34c561664dbb822b2c00c56a90a4",
            "placeholder": "​",
            "style": "IPY_MODEL_58f00696381e4a789785966d4980929b",
            "value": "Iris.csv: "
          }
        },
        "f4fa50f58a3d4831a804c3a660b40b70": {
          "model_module": "@jupyter-widgets/controls",
          "model_name": "FloatProgressModel",
          "model_module_version": "1.5.0",
          "state": {
            "_dom_classes": [],
            "_model_module": "@jupyter-widgets/controls",
            "_model_module_version": "1.5.0",
            "_model_name": "FloatProgressModel",
            "_view_count": null,
            "_view_module": "@jupyter-widgets/controls",
            "_view_module_version": "1.5.0",
            "_view_name": "ProgressView",
            "bar_style": "success",
            "description": "",
            "description_tooltip": null,
            "layout": "IPY_MODEL_e08a9ae799634287876eca47d04588d2",
            "max": 1,
            "min": 0,
            "orientation": "horizontal",
            "style": "IPY_MODEL_d0722be3603348108b7cf8721e840c90",
            "value": 1
          }
        },
        "64c66c42f3d0452995055aab5d926440": {
          "model_module": "@jupyter-widgets/controls",
          "model_name": "HTMLModel",
          "model_module_version": "1.5.0",
          "state": {
            "_dom_classes": [],
            "_model_module": "@jupyter-widgets/controls",
            "_model_module_version": "1.5.0",
            "_model_name": "HTMLModel",
            "_view_count": null,
            "_view_module": "@jupyter-widgets/controls",
            "_view_module_version": "1.5.0",
            "_view_name": "HTMLView",
            "description": "",
            "description_tooltip": null,
            "layout": "IPY_MODEL_14dcc5ae82084e4f96b21466eea880ec",
            "placeholder": "​",
            "style": "IPY_MODEL_d6d176033d334d8ca14a579d481df33a",
            "value": " 5.11k/? [00:00&lt;00:00, 66.5kB/s]"
          }
        },
        "e832cfc485b64a339754352b49f8b392": {
          "model_module": "@jupyter-widgets/base",
          "model_name": "LayoutModel",
          "model_module_version": "1.2.0",
          "state": {
            "_model_module": "@jupyter-widgets/base",
            "_model_module_version": "1.2.0",
            "_model_name": "LayoutModel",
            "_view_count": null,
            "_view_module": "@jupyter-widgets/base",
            "_view_module_version": "1.2.0",
            "_view_name": "LayoutView",
            "align_content": null,
            "align_items": null,
            "align_self": null,
            "border": null,
            "bottom": null,
            "display": null,
            "flex": null,
            "flex_flow": null,
            "grid_area": null,
            "grid_auto_columns": null,
            "grid_auto_flow": null,
            "grid_auto_rows": null,
            "grid_column": null,
            "grid_gap": null,
            "grid_row": null,
            "grid_template_areas": null,
            "grid_template_columns": null,
            "grid_template_rows": null,
            "height": null,
            "justify_content": null,
            "justify_items": null,
            "left": null,
            "margin": null,
            "max_height": null,
            "max_width": null,
            "min_height": null,
            "min_width": null,
            "object_fit": null,
            "object_position": null,
            "order": null,
            "overflow": null,
            "overflow_x": null,
            "overflow_y": null,
            "padding": null,
            "right": null,
            "top": null,
            "visibility": null,
            "width": null
          }
        },
        "497a34c561664dbb822b2c00c56a90a4": {
          "model_module": "@jupyter-widgets/base",
          "model_name": "LayoutModel",
          "model_module_version": "1.2.0",
          "state": {
            "_model_module": "@jupyter-widgets/base",
            "_model_module_version": "1.2.0",
            "_model_name": "LayoutModel",
            "_view_count": null,
            "_view_module": "@jupyter-widgets/base",
            "_view_module_version": "1.2.0",
            "_view_name": "LayoutView",
            "align_content": null,
            "align_items": null,
            "align_self": null,
            "border": null,
            "bottom": null,
            "display": null,
            "flex": null,
            "flex_flow": null,
            "grid_area": null,
            "grid_auto_columns": null,
            "grid_auto_flow": null,
            "grid_auto_rows": null,
            "grid_column": null,
            "grid_gap": null,
            "grid_row": null,
            "grid_template_areas": null,
            "grid_template_columns": null,
            "grid_template_rows": null,
            "height": null,
            "justify_content": null,
            "justify_items": null,
            "left": null,
            "margin": null,
            "max_height": null,
            "max_width": null,
            "min_height": null,
            "min_width": null,
            "object_fit": null,
            "object_position": null,
            "order": null,
            "overflow": null,
            "overflow_x": null,
            "overflow_y": null,
            "padding": null,
            "right": null,
            "top": null,
            "visibility": null,
            "width": null
          }
        },
        "58f00696381e4a789785966d4980929b": {
          "model_module": "@jupyter-widgets/controls",
          "model_name": "DescriptionStyleModel",
          "model_module_version": "1.5.0",
          "state": {
            "_model_module": "@jupyter-widgets/controls",
            "_model_module_version": "1.5.0",
            "_model_name": "DescriptionStyleModel",
            "_view_count": null,
            "_view_module": "@jupyter-widgets/base",
            "_view_module_version": "1.2.0",
            "_view_name": "StyleView",
            "description_width": ""
          }
        },
        "e08a9ae799634287876eca47d04588d2": {
          "model_module": "@jupyter-widgets/base",
          "model_name": "LayoutModel",
          "model_module_version": "1.2.0",
          "state": {
            "_model_module": "@jupyter-widgets/base",
            "_model_module_version": "1.2.0",
            "_model_name": "LayoutModel",
            "_view_count": null,
            "_view_module": "@jupyter-widgets/base",
            "_view_module_version": "1.2.0",
            "_view_name": "LayoutView",
            "align_content": null,
            "align_items": null,
            "align_self": null,
            "border": null,
            "bottom": null,
            "display": null,
            "flex": null,
            "flex_flow": null,
            "grid_area": null,
            "grid_auto_columns": null,
            "grid_auto_flow": null,
            "grid_auto_rows": null,
            "grid_column": null,
            "grid_gap": null,
            "grid_row": null,
            "grid_template_areas": null,
            "grid_template_columns": null,
            "grid_template_rows": null,
            "height": null,
            "justify_content": null,
            "justify_items": null,
            "left": null,
            "margin": null,
            "max_height": null,
            "max_width": null,
            "min_height": null,
            "min_width": null,
            "object_fit": null,
            "object_position": null,
            "order": null,
            "overflow": null,
            "overflow_x": null,
            "overflow_y": null,
            "padding": null,
            "right": null,
            "top": null,
            "visibility": null,
            "width": "20px"
          }
        },
        "d0722be3603348108b7cf8721e840c90": {
          "model_module": "@jupyter-widgets/controls",
          "model_name": "ProgressStyleModel",
          "model_module_version": "1.5.0",
          "state": {
            "_model_module": "@jupyter-widgets/controls",
            "_model_module_version": "1.5.0",
            "_model_name": "ProgressStyleModel",
            "_view_count": null,
            "_view_module": "@jupyter-widgets/base",
            "_view_module_version": "1.2.0",
            "_view_name": "StyleView",
            "bar_color": null,
            "description_width": ""
          }
        },
        "14dcc5ae82084e4f96b21466eea880ec": {
          "model_module": "@jupyter-widgets/base",
          "model_name": "LayoutModel",
          "model_module_version": "1.2.0",
          "state": {
            "_model_module": "@jupyter-widgets/base",
            "_model_module_version": "1.2.0",
            "_model_name": "LayoutModel",
            "_view_count": null,
            "_view_module": "@jupyter-widgets/base",
            "_view_module_version": "1.2.0",
            "_view_name": "LayoutView",
            "align_content": null,
            "align_items": null,
            "align_self": null,
            "border": null,
            "bottom": null,
            "display": null,
            "flex": null,
            "flex_flow": null,
            "grid_area": null,
            "grid_auto_columns": null,
            "grid_auto_flow": null,
            "grid_auto_rows": null,
            "grid_column": null,
            "grid_gap": null,
            "grid_row": null,
            "grid_template_areas": null,
            "grid_template_columns": null,
            "grid_template_rows": null,
            "height": null,
            "justify_content": null,
            "justify_items": null,
            "left": null,
            "margin": null,
            "max_height": null,
            "max_width": null,
            "min_height": null,
            "min_width": null,
            "object_fit": null,
            "object_position": null,
            "order": null,
            "overflow": null,
            "overflow_x": null,
            "overflow_y": null,
            "padding": null,
            "right": null,
            "top": null,
            "visibility": null,
            "width": null
          }
        },
        "d6d176033d334d8ca14a579d481df33a": {
          "model_module": "@jupyter-widgets/controls",
          "model_name": "DescriptionStyleModel",
          "model_module_version": "1.5.0",
          "state": {
            "_model_module": "@jupyter-widgets/controls",
            "_model_module_version": "1.5.0",
            "_model_name": "DescriptionStyleModel",
            "_view_count": null,
            "_view_module": "@jupyter-widgets/base",
            "_view_module_version": "1.2.0",
            "_view_name": "StyleView",
            "description_width": ""
          }
        },
        "0b0ee88dbc134347bd366ea326dc5386": {
          "model_module": "@jupyter-widgets/controls",
          "model_name": "HBoxModel",
          "model_module_version": "1.5.0",
          "state": {
            "_dom_classes": [],
            "_model_module": "@jupyter-widgets/controls",
            "_model_module_version": "1.5.0",
            "_model_name": "HBoxModel",
            "_view_count": null,
            "_view_module": "@jupyter-widgets/controls",
            "_view_module_version": "1.5.0",
            "_view_name": "HBoxView",
            "box_style": "",
            "children": [
              "IPY_MODEL_365f5c296beb4a54a1b185d0337b6e2c",
              "IPY_MODEL_5c8a4fa2fb19485a8ed874ed2facf658",
              "IPY_MODEL_dd86e1baba6142a58ebd66aa6a64f1ff"
            ],
            "layout": "IPY_MODEL_01e3574a85944833a923e691a600b63c"
          }
        },
        "365f5c296beb4a54a1b185d0337b6e2c": {
          "model_module": "@jupyter-widgets/controls",
          "model_name": "HTMLModel",
          "model_module_version": "1.5.0",
          "state": {
            "_dom_classes": [],
            "_model_module": "@jupyter-widgets/controls",
            "_model_module_version": "1.5.0",
            "_model_name": "HTMLModel",
            "_view_count": null,
            "_view_module": "@jupyter-widgets/controls",
            "_view_module_version": "1.5.0",
            "_view_name": "HTMLView",
            "description": "",
            "description_tooltip": null,
            "layout": "IPY_MODEL_053f7077a61743edb83a46e71526962c",
            "placeholder": "​",
            "style": "IPY_MODEL_0605f1383bba416dbf8d582ca4d48f77",
            "value": "Generating train split: 100%"
          }
        },
        "5c8a4fa2fb19485a8ed874ed2facf658": {
          "model_module": "@jupyter-widgets/controls",
          "model_name": "FloatProgressModel",
          "model_module_version": "1.5.0",
          "state": {
            "_dom_classes": [],
            "_model_module": "@jupyter-widgets/controls",
            "_model_module_version": "1.5.0",
            "_model_name": "FloatProgressModel",
            "_view_count": null,
            "_view_module": "@jupyter-widgets/controls",
            "_view_module_version": "1.5.0",
            "_view_name": "ProgressView",
            "bar_style": "success",
            "description": "",
            "description_tooltip": null,
            "layout": "IPY_MODEL_427c72b09ced435badc54d952a77efad",
            "max": 150,
            "min": 0,
            "orientation": "horizontal",
            "style": "IPY_MODEL_83e842c9424c4ddb9e2e34b8d5e53a93",
            "value": 150
          }
        },
        "dd86e1baba6142a58ebd66aa6a64f1ff": {
          "model_module": "@jupyter-widgets/controls",
          "model_name": "HTMLModel",
          "model_module_version": "1.5.0",
          "state": {
            "_dom_classes": [],
            "_model_module": "@jupyter-widgets/controls",
            "_model_module_version": "1.5.0",
            "_model_name": "HTMLModel",
            "_view_count": null,
            "_view_module": "@jupyter-widgets/controls",
            "_view_module_version": "1.5.0",
            "_view_name": "HTMLView",
            "description": "",
            "description_tooltip": null,
            "layout": "IPY_MODEL_c6335343d35b4459add886d961145365",
            "placeholder": "​",
            "style": "IPY_MODEL_3a0f585d14304c379b995a7309f05877",
            "value": " 150/150 [00:00&lt;00:00, 2569.35 examples/s]"
          }
        },
        "01e3574a85944833a923e691a600b63c": {
          "model_module": "@jupyter-widgets/base",
          "model_name": "LayoutModel",
          "model_module_version": "1.2.0",
          "state": {
            "_model_module": "@jupyter-widgets/base",
            "_model_module_version": "1.2.0",
            "_model_name": "LayoutModel",
            "_view_count": null,
            "_view_module": "@jupyter-widgets/base",
            "_view_module_version": "1.2.0",
            "_view_name": "LayoutView",
            "align_content": null,
            "align_items": null,
            "align_self": null,
            "border": null,
            "bottom": null,
            "display": null,
            "flex": null,
            "flex_flow": null,
            "grid_area": null,
            "grid_auto_columns": null,
            "grid_auto_flow": null,
            "grid_auto_rows": null,
            "grid_column": null,
            "grid_gap": null,
            "grid_row": null,
            "grid_template_areas": null,
            "grid_template_columns": null,
            "grid_template_rows": null,
            "height": null,
            "justify_content": null,
            "justify_items": null,
            "left": null,
            "margin": null,
            "max_height": null,
            "max_width": null,
            "min_height": null,
            "min_width": null,
            "object_fit": null,
            "object_position": null,
            "order": null,
            "overflow": null,
            "overflow_x": null,
            "overflow_y": null,
            "padding": null,
            "right": null,
            "top": null,
            "visibility": null,
            "width": null
          }
        },
        "053f7077a61743edb83a46e71526962c": {
          "model_module": "@jupyter-widgets/base",
          "model_name": "LayoutModel",
          "model_module_version": "1.2.0",
          "state": {
            "_model_module": "@jupyter-widgets/base",
            "_model_module_version": "1.2.0",
            "_model_name": "LayoutModel",
            "_view_count": null,
            "_view_module": "@jupyter-widgets/base",
            "_view_module_version": "1.2.0",
            "_view_name": "LayoutView",
            "align_content": null,
            "align_items": null,
            "align_self": null,
            "border": null,
            "bottom": null,
            "display": null,
            "flex": null,
            "flex_flow": null,
            "grid_area": null,
            "grid_auto_columns": null,
            "grid_auto_flow": null,
            "grid_auto_rows": null,
            "grid_column": null,
            "grid_gap": null,
            "grid_row": null,
            "grid_template_areas": null,
            "grid_template_columns": null,
            "grid_template_rows": null,
            "height": null,
            "justify_content": null,
            "justify_items": null,
            "left": null,
            "margin": null,
            "max_height": null,
            "max_width": null,
            "min_height": null,
            "min_width": null,
            "object_fit": null,
            "object_position": null,
            "order": null,
            "overflow": null,
            "overflow_x": null,
            "overflow_y": null,
            "padding": null,
            "right": null,
            "top": null,
            "visibility": null,
            "width": null
          }
        },
        "0605f1383bba416dbf8d582ca4d48f77": {
          "model_module": "@jupyter-widgets/controls",
          "model_name": "DescriptionStyleModel",
          "model_module_version": "1.5.0",
          "state": {
            "_model_module": "@jupyter-widgets/controls",
            "_model_module_version": "1.5.0",
            "_model_name": "DescriptionStyleModel",
            "_view_count": null,
            "_view_module": "@jupyter-widgets/base",
            "_view_module_version": "1.2.0",
            "_view_name": "StyleView",
            "description_width": ""
          }
        },
        "427c72b09ced435badc54d952a77efad": {
          "model_module": "@jupyter-widgets/base",
          "model_name": "LayoutModel",
          "model_module_version": "1.2.0",
          "state": {
            "_model_module": "@jupyter-widgets/base",
            "_model_module_version": "1.2.0",
            "_model_name": "LayoutModel",
            "_view_count": null,
            "_view_module": "@jupyter-widgets/base",
            "_view_module_version": "1.2.0",
            "_view_name": "LayoutView",
            "align_content": null,
            "align_items": null,
            "align_self": null,
            "border": null,
            "bottom": null,
            "display": null,
            "flex": null,
            "flex_flow": null,
            "grid_area": null,
            "grid_auto_columns": null,
            "grid_auto_flow": null,
            "grid_auto_rows": null,
            "grid_column": null,
            "grid_gap": null,
            "grid_row": null,
            "grid_template_areas": null,
            "grid_template_columns": null,
            "grid_template_rows": null,
            "height": null,
            "justify_content": null,
            "justify_items": null,
            "left": null,
            "margin": null,
            "max_height": null,
            "max_width": null,
            "min_height": null,
            "min_width": null,
            "object_fit": null,
            "object_position": null,
            "order": null,
            "overflow": null,
            "overflow_x": null,
            "overflow_y": null,
            "padding": null,
            "right": null,
            "top": null,
            "visibility": null,
            "width": null
          }
        },
        "83e842c9424c4ddb9e2e34b8d5e53a93": {
          "model_module": "@jupyter-widgets/controls",
          "model_name": "ProgressStyleModel",
          "model_module_version": "1.5.0",
          "state": {
            "_model_module": "@jupyter-widgets/controls",
            "_model_module_version": "1.5.0",
            "_model_name": "ProgressStyleModel",
            "_view_count": null,
            "_view_module": "@jupyter-widgets/base",
            "_view_module_version": "1.2.0",
            "_view_name": "StyleView",
            "bar_color": null,
            "description_width": ""
          }
        },
        "c6335343d35b4459add886d961145365": {
          "model_module": "@jupyter-widgets/base",
          "model_name": "LayoutModel",
          "model_module_version": "1.2.0",
          "state": {
            "_model_module": "@jupyter-widgets/base",
            "_model_module_version": "1.2.0",
            "_model_name": "LayoutModel",
            "_view_count": null,
            "_view_module": "@jupyter-widgets/base",
            "_view_module_version": "1.2.0",
            "_view_name": "LayoutView",
            "align_content": null,
            "align_items": null,
            "align_self": null,
            "border": null,
            "bottom": null,
            "display": null,
            "flex": null,
            "flex_flow": null,
            "grid_area": null,
            "grid_auto_columns": null,
            "grid_auto_flow": null,
            "grid_auto_rows": null,
            "grid_column": null,
            "grid_gap": null,
            "grid_row": null,
            "grid_template_areas": null,
            "grid_template_columns": null,
            "grid_template_rows": null,
            "height": null,
            "justify_content": null,
            "justify_items": null,
            "left": null,
            "margin": null,
            "max_height": null,
            "max_width": null,
            "min_height": null,
            "min_width": null,
            "object_fit": null,
            "object_position": null,
            "order": null,
            "overflow": null,
            "overflow_x": null,
            "overflow_y": null,
            "padding": null,
            "right": null,
            "top": null,
            "visibility": null,
            "width": null
          }
        },
        "3a0f585d14304c379b995a7309f05877": {
          "model_module": "@jupyter-widgets/controls",
          "model_name": "DescriptionStyleModel",
          "model_module_version": "1.5.0",
          "state": {
            "_model_module": "@jupyter-widgets/controls",
            "_model_module_version": "1.5.0",
            "_model_name": "DescriptionStyleModel",
            "_view_count": null,
            "_view_module": "@jupyter-widgets/base",
            "_view_module_version": "1.2.0",
            "_view_name": "StyleView",
            "description_width": ""
          }
        }
      }
    }
  },
  "nbformat": 4,
  "nbformat_minor": 0
}