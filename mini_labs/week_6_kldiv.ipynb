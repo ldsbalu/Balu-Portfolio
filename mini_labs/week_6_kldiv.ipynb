{
  "cells": [
    {
      "cell_type": "markdown",
      "metadata": {
        "id": "u6ttuamEyFbx"
      },
      "source": [
        "<a href=\"https://colab.research.google.com/github/wingated/cs473/blob/main/mini_labs/week_6_kldiv.ipynb\"><img src=\"https://colab.research.google.com/assets/colab-badge.svg\" alt=\"Open In Colab\"/></a>\n",
        "\n",
        "\n",
        "# BYU CS 473 — KL Divergence\n",
        "\n",
        "In this assignment, you will learn the basics of **Kullback–Leibler (KL) divergence**. KL divergence measures how one probability distribution differs from another.\n",
        "\n",
        "---\n",
        "\n",
        "## Learning Goals\n",
        "- Understand the definition of KL divergence  \n",
        "- Compute KL divergence between two Gaussian distributions  \n",
        "- Understand why KL divergence is always non-negative  \n",
        "- Relate KL divergence to Maximum Likelihood Estimation (MLE)  \n",
        "- Compare forward vs reverse KL divergence\n"
      ]
    },
    {
      "cell_type": "markdown",
      "metadata": {
        "id": "DJk_TDsJyHCM"
      },
      "source": [
        "## 1. Definition\n",
        "\n",
        "For discrete distributions:\n",
        "\n",
        "$D_{\\text{KL}}(P \\,\\|\\, Q) = \\sum_x P(x) \\log \\frac{P(x)}{Q(x)}$\n",
        "\n",
        "For continuous distributions:\n",
        "\n",
        "$D_{\\text{KL}}(P \\,\\|\\, Q) = \\int p(x) \\log \\frac{p(x)}{q(x)} dx$\n",
        "\n",
        "- KL divergence is **not symmetric**: $D_{\\text{KL}}(P \\,\\|\\, Q) \\neq D_{\\text{KL}}(Q \\,\\|\\, P)$\n",
        "- KL divergence is **not a distance metric**, but it measures how well $Q$ approximates $P$.  \n"
      ]
    },
    {
      "cell_type": "markdown",
      "metadata": {
        "id": "jMdkhesVyLkS"
      },
      "source": [
        "### Exercise 1\n",
        "In your own words, explain what KL divergence measures.  \n",
        "Give a real-world analogy (e.g., communication, language modeling).\n"
      ]
    },
    {
      "cell_type": "markdown",
      "metadata": {
        "id": "f_tnXEO_yQXM"
      },
      "source": [
        "KL divergence measures the \"information loss\" or \"surprise\". It's an asymmetric measure, meaning the divergence from P to Q is not the same as from Q to P.\n",
        "\n",
        "A good analogy refers to language translation where Person A gave a sentence in english. Person B and C translate to other language based on the knowledge they have person b translated with grammer mistakes but good explantion and person C translated with bad explanation but grammatically correct. DL divergence measures the what each person B and C lost in their translation. The two values would likely be different, and the better translation would have a lower KL divergence from the original meaning\n"
      ]
    },
    {
      "cell_type": "markdown",
      "metadata": {
        "id": "8MObNWP6yTAs"
      },
      "source": [
        "## 2. Example: KL Divergence Between Two Gaussians\n",
        "\n",
        "If $P = \\mathcal{N}(\\mu_p, \\sigma_p^2)$ and $Q = \\mathcal{N}(\\mu_q, \\sigma_q^2)$, the KL divergence is:\n",
        "\n",
        "$D_{\\text{KL}}(P \\,\\|\\, Q) = \\log \\frac{\\sigma_q}{\\sigma_p} + \\frac{\\sigma_p^2 + (\\mu_p - \\mu_q)^2}{2\\sigma_q^2} - \\frac{1}{2}$\n"
      ]
    },
    {
      "cell_type": "code",
      "execution_count": 2,
      "metadata": {
        "colab": {
          "base_uri": "https://localhost:8080/"
        },
        "id": "IMYIBMAOx8JX",
        "outputId": "572fd995-3132-4158-f61f-f5b40b9c4604"
      },
      "outputs": [
        {
          "output_type": "stream",
          "name": "stdout",
          "text": [
            "KL(P||Q) with mu_p=0, sigma_p=1, mu_q=1, sigma_q=2:\n"
          ]
        },
        {
          "output_type": "execute_result",
          "data": {
            "text/plain": [
              "np.float64(0.4431471805599453)"
            ]
          },
          "metadata": {},
          "execution_count": 2
        }
      ],
      "source": [
        "import numpy as np\n",
        "\n",
        "def kl_gaussian(mu_p, sigma_p, mu_q, sigma_q):\n",
        "    return np.log(sigma_q/sigma_p) + (sigma_p**2 + (mu_p - mu_q)**2)/(2*sigma_q**2) - 0.5\n",
        "\n",
        "# Example\n",
        "print(\"KL(P||Q) with mu_p=0, sigma_p=1, mu_q=1, sigma_q=2:\")\n",
        "kl_gaussian(0, 1, 1, 2)\n",
        "\n",
        "\n"
      ]
    },
    {
      "cell_type": "markdown",
      "metadata": {
        "id": "GA0uPLquymuA"
      },
      "source": [
        "### Exercise 2\n",
        "- Compute ${\\text{KL}}(P \\,\\|\\, Q)$ for several pairs of Gaussian distributions.  \n",
        "- Which matters more: differences in mean, or differences in variance?  \n",
        "- Plot ${\\text{KL}}(P \\,\\|\\, Q)$ as $μ_q$ varies from -3 to 3, holding σ fixed.\n"
      ]
    },
    {
      "cell_type": "code",
      "execution_count": 4,
      "metadata": {
        "id": "6z97EccyypRm",
        "colab": {
          "base_uri": "https://localhost:8080/"
        },
        "outputId": "ddb74811-2572-4f77-9639-c07538e2e0e8"
      },
      "outputs": [
        {
          "output_type": "stream",
          "name": "stdout",
          "text": [
            "P=N(0,1), Q=N(1,1) -> KL(P||Q) = 0.5000\n",
            "P=N(0,1), Q=N(0,2) -> KL(P||Q) = 0.3181\n",
            "P=N(0,1), Q=N(0,0.5) -> KL(P||Q) = 0.8069\n"
          ]
        }
      ],
      "source": [
        "# Your code here\n",
        "mu_p, sigma_p = 0, 1\n",
        "kl_diff_mean = kl_gaussian(mu_p, sigma_p, mu_q=1, sigma_q=1)\n",
        "print(f\"P=N(0,1), Q=N(1,1) -> KL(P||Q) = {kl_diff_mean:.4f}\")\n",
        "\n",
        "# Case 2: Same mean, different (larger) variance\n",
        "kl_diff_var_large = kl_gaussian(mu_p, sigma_p, mu_q=0, sigma_q=2)\n",
        "print(f\"P=N(0,1), Q=N(0,2) -> KL(P||Q) = {kl_diff_var_large:.4f}\")\n",
        "\n",
        "# Case 3: Same mean, different (smaller) variance\n",
        "kl_diff_var_small = kl_gaussian(mu_p, sigma_p, mu_q=0, sigma_q=0.5)\n",
        "print(f\"P=N(0,1), Q=N(0,0.5) -> KL(P||Q) = {kl_diff_var_small:.4f}\")"
      ]
    },
    {
      "cell_type": "markdown",
      "source": [
        "What matters more\n",
        "\n",
        "The impact of mean vs. variance is  depends on their relative values.\n",
        "From the formula, the difference in means is squared, $(μ_{p} - μ_{q})^2 $ , which suggests a strong penalty.\n",
        "However, this penalty is scaled by $1/(2\\sigma_{q}²)$, so if the approximating distribution Q has a large variance, the difference in mean's importance is  less.\n",
        "if Q has a very small variance, even a small difference in means can lead to a very large KL divergence."
      ],
      "metadata": {
        "id": "pwTqY_Q8bOeF"
      }
    },
    {
      "cell_type": "code",
      "source": [
        "mu_q_values = np.linspace(-3, 3, 200)\n",
        "# P = N(0, 1), Q = N(mu_q, 1)\n",
        "kl_values = kl_gaussian(mu_p=0, sigma_p=1, mu_q=mu_q_values, sigma_q=1)\n",
        "\n"
      ],
      "metadata": {
        "id": "AkFj6Zlsb5oB"
      },
      "execution_count": 5,
      "outputs": []
    },
    {
      "cell_type": "code",
      "source": [
        "import matplotlib.pyplot as plt\n",
        "plt.figure(figsize=(8, 5))\n",
        "plt.plot(mu_q_values, kl_values)\n",
        "plt.title(\"KL(P||Q) as μ_q varies, with P=N(0,1), Q=N(μ_q,1)\")\n",
        "plt.xlabel(\"μ_q (Mean of Q)\")\n",
        "plt.ylabel(\"KL Divergence\")\n",
        "plt.grid(True)\n",
        "plt.show()"
      ],
      "metadata": {
        "id": "aWjC5VO_cARA",
        "outputId": "ed79af69-92d6-4a30-dff8-01ea721a3591",
        "colab": {
          "base_uri": "https://localhost:8080/",
          "height": 487
        }
      },
      "execution_count": 6,
      "outputs": [
        {
          "output_type": "display_data",
          "data": {
            "text/plain": [
              "<Figure size 800x500 with 1 Axes>"
            ],
            "image/png": "[encoded data removed]"
          },
          "metadata": {}
        }
      ]
    },
    {
      "cell_type": "markdown",
      "metadata": {
        "id": "UJa1TCl1y305"
      },
      "source": [
        "## 3. Non-Negativity of KL Divergence\n",
        "\n",
        "**Gibbs’ Inequality**:  \n",
        "$D_{\\text{KL}}(P \\,\\|\\, Q) \\geq 0$\n",
        "\n",
        "with equality if and only if $P = Q$.  \n",
        "This means the \"distance\" is never negative.\n",
        "\n",
        "Intuition: if you approximate $P$ with $Q$, you can never do better than the true distribution.\n"
      ]
    },
    {
      "cell_type": "code",
      "execution_count": 7,
      "metadata": {
        "colab": {
          "base_uri": "https://localhost:8080/"
        },
        "id": "KT6i_B8Cy87F",
        "outputId": "f26cb012-d972-43bc-e938-614c654dac12"
      },
      "outputs": [
        {
          "output_type": "execute_result",
          "data": {
            "text/plain": [
              "np.float64(0.020135513550688863)"
            ]
          },
          "metadata": {},
          "execution_count": 7
        }
      ],
      "source": [
        "# Quick numerical experiment\n",
        "p = np.array([0.4, 0.6])\n",
        "q = np.array([0.5, 0.5])\n",
        "kl = np.sum(p * np.log(p/q))\n",
        "kl\n"
      ]
    },
    {
      "cell_type": "markdown",
      "metadata": {
        "id": "_b2vZk2vzDeX"
      },
      "source": [
        "### Exercise 3\n",
        "- Construct two different discrete distributions $P$ and $Q$.  \n",
        "- Compute ${\\text{KL}}(P \\,\\|\\, Q)$ and ${\\text{KL}}(Q \\,\\|\\, P)$.  \n",
        "- Verify that both are ≥ 0.  \n",
        "- When do you get $\\text{KL} = 0$?\n"
      ]
    },
    {
      "cell_type": "code",
      "execution_count": 8,
      "metadata": {
        "id": "tB8fAzNyzFsj",
        "colab": {
          "base_uri": "https://localhost:8080/"
        },
        "outputId": "c7110f8d-8896-4e87-fd10-ce58aa1ce697"
      },
      "outputs": [
        {
          "output_type": "stream",
          "name": "stdout",
          "text": [
            "KL(P||Q) = 1.2928\n",
            "KL(Q||P) = 1.3996\n"
          ]
        }
      ],
      "source": [
        "# Your code here\n",
        "p = np.array([0.1, 0.2, 0.7])\n",
        "q = np.array([0.8, 0.1, 0.1])\n",
        "assert np.isclose(np.sum(p), 1.0)\n",
        "assert np.isclose(np.sum(q), 1.0)\n",
        "kl_p_q = np.sum(p * np.log(p/q))\n",
        "kl_q_p = np.sum(q * np.log(q/p))\n",
        "print(f\"KL(P||Q) = {kl_p_q:.4f}\")\n",
        "print(f\"KL(Q||P) = {kl_q_p:.4f}\")"
      ]
    },
    {
      "cell_type": "code",
      "source": [
        "print(f\"\\nIs KL(P||Q) >= 0? {'Yes' if kl_p_q >= 0 else 'No'}\")\n",
        "print(f\"Is KL(Q||P) >= 0? {'Yes' if kl_q_p >= 0 else 'No'}\")\n",
        "print(\"This also demonstrates the asymmetry of KL Divergence: KL(P||Q) != KL(Q||P).\")"
      ],
      "metadata": {
        "id": "Hvx2HNq5LQCA",
        "outputId": "1e675631-9673-4330-c824-f391f7fc5646",
        "colab": {
          "base_uri": "https://localhost:8080/"
        }
      },
      "execution_count": 11,
      "outputs": [
        {
          "output_type": "stream",
          "name": "stdout",
          "text": [
            "\n",
            "Is KL(P||Q) >= 0? Yes\n",
            "Is KL(Q||P) >= 0? Yes\n",
            "This also demonstrates the asymmetry of KL Divergence: KL(P||Q) != KL(Q||P).\n"
          ]
        }
      ]
    },
    {
      "cell_type": "code",
      "source": [
        "p_identical = np.array([0.3, 0.4, 0.3])\n",
        "q_identical = np.array([0.3, 0.4, 0.3])\n",
        "kl_zero = np.sum(p_identical * np.log(p_identical / q_identical))\n",
        "print(f\"When P=Q, KL(P||Q) = {kl_zero:.4f}\")"
      ],
      "metadata": {
        "id": "RCcn9HaRLd8W",
        "outputId": "6c70f2c8-1956-4c2a-963e-3dc1f3e102c0",
        "colab": {
          "base_uri": "https://localhost:8080/"
        }
      },
      "execution_count": 12,
      "outputs": [
        {
          "output_type": "stream",
          "name": "stdout",
          "text": [
            "When P=Q, KL(P||Q) = 0.0000\n"
          ]
        }
      ]
    },
    {
      "cell_type": "markdown",
      "metadata": {
        "id": "1lM3qQB705rd"
      },
      "source": [
        "## 4. KL Divergence and Maximum Likelihood Estimation\n",
        "\n",
        "Suppose data is generated from distribution P, and we fit model Qθ.  \n",
        "\n",
        "- MLE maximizes likelihood:   \n",
        "  $\\theta^* = \\arg \\max_\\theta \\sum \\log q_\\theta(x_i)$\n",
        "- Equivalent to minimizing:  \n",
        "  $D_{\\text{KL}}(P \\,\\|\\, Q_\\theta)$\n",
        "\n",
        "Thus, **MLE is KL minimization**: we make our model Qθ as close as possible to the true distribution P.\n"
      ]
    },
    {
      "cell_type": "markdown",
      "metadata": {
        "id": "VA7V1Hq00_TP"
      },
      "source": [
        "### Exercise 4\n",
        "Explain in your own words:\n",
        "- Why minimizing ${\\text{KL}}(P \\,\\|\\, Q)$ is the same as maximizing likelihood.  \n",
        "- Why this interpretation helps us understand model training.\n"
      ]
    },
    {
      "cell_type": "markdown",
      "metadata": {
        "id": "ZB38w_Do1CVx"
      },
      "source": [
        "Yes it is same as maximizing likelihood, because KL divergence formula can be split into like this\n",
        "$$ D_{KL}(P||Q) = \\Sigma_xP(x)logP(x) - \\Sigma_xQ(x)logQ(x) $$\n",
        "The first term is entropy of true data distribution and second term is negative cross-entropy. To minimize the entire KL divergence expression, we only need to minimize this second term since first term is constant which is also maximizing the log likelihood.\n",
        "\n",
        "This interpretation is incredibly helpful because it reframes model training, It helps us understand that our model is essentially trying to get to close to reality with KL divergence being the measure of that closeness."
      ]
    },
    {
      "cell_type": "markdown",
      "metadata": {
        "id": "0zp_9eQu1EAv"
      },
      "source": [
        "## 5. Forward vs Reverse KL\n",
        "\n",
        "- **Forward KL:** $D_{\\text{KL}}(P \\,\\|\\, Q)$  \n",
        "  - Penalizes missing modes ($Q$ must cover all support of $P$).  \n",
        "  - \"Mode covering.\"\n",
        "\n",
        "- **Reverse KL:** $D_{\\text{KL}}(Q \\,\\|\\, P)$  \n",
        "  - Penalizes putting mass where $P$ has none.  \n",
        "  - \"Mode seeking.\"\n",
        "\n",
        "This asymmetry explains why different algorithms (e.g. variational inference vs expectation propagation) behave differently.\n"
      ]
    },
    {
      "cell_type": "code",
      "execution_count": 13,
      "metadata": {
        "colab": {
          "base_uri": "https://localhost:8080/",
          "height": 452
        },
        "id": "zfPADqcr1MFa",
        "outputId": "f61c173e-7226-4fdd-e92c-86c2ef38fd28"
      },
      "outputs": [
        {
          "output_type": "display_data",
          "data": {
            "text/plain": [
              "<Figure size 640x480 with 1 Axes>"
            ],
            "image/png": "[encoded data removed]"
          },
          "metadata": {}
        }
      ],
      "source": [
        "import matplotlib.pyplot as plt\n",
        "import scipy.stats as stats\n",
        "\n",
        "x = np.linspace(-5, 5, 200)\n",
        "p = stats.norm(0, 1).pdf(x)   # true distribution\n",
        "q1 = stats.norm(0, 2).pdf(x)  # wide Q\n",
        "q2 = stats.norm(1, 0.5).pdf(x) # narrow Q\n",
        "\n",
        "plt.plot(x, p, label=\"P ~ N(0,1)\", linewidth=2)\n",
        "plt.plot(x, q1, label=\"Q wide\", linestyle=\"--\")\n",
        "plt.plot(x, q2, label=\"Q narrow\", linestyle=\":\")\n",
        "plt.legend()\n",
        "plt.title(\"P vs Q distributions\")\n",
        "plt.show()\n"
      ]
    },
    {
      "cell_type": "markdown",
      "metadata": {
        "id": "skx9kDw71RW8"
      },
      "source": [
        "### Exercise 5\n",
        "1. Compute both ${\\text{KL}}(P \\,\\|\\, Q)$ and ${\\text{KL}}(Q \\,\\|\\, P)$ for $P=N(0,1)$, $Q=N(1,0.5)$.  \n",
        "2. Which is larger? Why?  \n",
        "3. In which case would forward KL be more appropriate? Reverse KL?\n"
      ]
    },
    {
      "cell_type": "code",
      "execution_count": 14,
      "metadata": {
        "id": "GK1b-mHj1TxB",
        "colab": {
          "base_uri": "https://localhost:8080/"
        },
        "outputId": "e3dde218-1cd1-49a2-bc70-3d46f944fba3"
      },
      "outputs": [
        {
          "output_type": "stream",
          "name": "stdout",
          "text": [
            "KL(P||Q) = 2.8069\n",
            "KL(Q||P) = 0.8181\n"
          ]
        }
      ],
      "source": [
        "# Your code here\n",
        "# P = N(0, 1)\n",
        "mu_p, sigma_p = 0, 1\n",
        "# Q = N(1, 0.5)\n",
        "mu_q, sigma_q = 1, 0.5\n",
        "forward_kl = kl_gaussian(mu_p, sigma_p, mu_q, sigma_q)\n",
        "reverse_kl = kl_gaussian(mu_q, sigma_q, mu_p, sigma_p)\n",
        "print(f\"KL(P||Q) = {forward_kl:.4f}\")\n",
        "print(f\"KL(Q||P) = {reverse_kl:.4f}\")"
      ]
    },
    {
      "cell_type": "markdown",
      "source": [
        "Forward KL, averages over p and Reverse KL averages over q.\n",
        "The forward Kl divergence is larger and penalizes the q if it assigned with low probability.Here, P=N(0,1) is wide, and Q=N(1,0.5) is a narrow distribution shifted away from P's mean. Q assigns very low probability to values where P has significant mass.\n",
        "It penalizes q if it assigns high probability where p has low probability.\n"
      ],
      "metadata": {
        "id": "0WGAYBbIS8Jj"
      }
    },
    {
      "cell_type": "markdown",
      "metadata": {
        "id": "M6spBnzJ1Wxb"
      },
      "source": [
        "## 6. Reflection\n",
        "\n",
        "### Exercise 6\n",
        "Answer in 2–3 sentences each:\n",
        "\n",
        "1. Why is KL divergence always non-negative?  \n",
        "2. How does KL divergence connect to MLE?  \n",
        "3. Why do forward and reverse KL behave differently?  \n"
      ]
    },
    {
      "cell_type": "markdown",
      "metadata": {
        "id": "NtTDdQ6K1aGw"
      },
      "source": [
        "Your response here\n",
        "Gibbs' inequality is equation that effects KL divergence to be always non-negative\n",
        "Yes it is same as maximizing likelihood, because KL divergence formula can be split into like this\n",
        "$$ D_{KL}(P||Q) = \\Sigma_xP(x)logP(x) - \\Sigma_xQ(x)logQ(x) $$\n",
        "The first term is entropy of true data distribution and second term is negative cross-entropy. To minimize the entire KL divergence expression, we only need to minimize this second term since first term is constant which is also maximizing the log likelihood.\n",
        "They behave differently because of the inherent asymmetry in the KL formula."
      ]
    }
  ],
  "metadata": {
    "colab": {
      "provenance": []
    },
    "kernelspec": {
      "display_name": "Python 3",
      "name": "python3"
    },
    "language_info": {
      "name": "python"
    }
  },
  "nbformat": 4,
  "nbformat_minor": 0
}