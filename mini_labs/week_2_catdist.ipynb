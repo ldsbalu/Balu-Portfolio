{
  "cells": [
    {
      "cell_type": "markdown",
      "metadata": {
        "id": "U-6pJNZAfRAK"
      },
      "source": [
        "<a href=\"https://colab.research.google.com/github/wingated/cs473/blob/main/mini_labs/week_2_catdist.ipynb\"><img src=\"https://colab.research.google.com/assets/colab-badge.svg\" alt=\"Open In Colab\"/></a>\n",
        "\n",
        "# BYU CS 473 — Categorical Distribution\n",
        "\n",
        "### IMPORTANT: The assignment portion is in part 6\n",
        "\n",
        "---\n",
        "\n",
        "## Learning Goals\n",
        "- Understand the concept of categorical distribution  \n",
        "- Understand how to use One-Hot Encoding to sort categorical data  \n",
        "- Understand how to use multinomial distribution to model categorical data  \n",
        "\n"
      ]
    },
    {
      "cell_type": "markdown",
      "metadata": {
        "id": "Lrhyozefe_04"
      },
      "source": [
        "## 1. Introduction to Categorical Distribution\n",
        "\n",
        "The **categorical distribution** describes the probability of a random variable that can take on one of *k* possible categories, with each having its own probability.\n",
        "\n",
        "- Example: Rolling a 3-sided die (with outcomes `{A, B, C}`).\n",
        "- Each category has a probability:  \n",
        "  $P(X = i) = p_i, \\quad \\text{where } \\sum_{i=1}^k p_i = 1$\n",
        "\n",
        "We often represent the outcome using **One-Hot encoding**.\n"
      ]
    },
    {
      "cell_type": "markdown",
      "metadata": {
        "id": "kP7XAQE1f2T2"
      },
      "source": [
        "## 2. One-Hot Encoding\n",
        "\n",
        "Categorical data is often encoded numerically for machine learning.  \n",
        "**One-Hot Encoding** represents each category as a binary vector with a `1` in the position of the chosen category.\n",
        "\n",
        "Example:  \n",
        "- Categories: `[\"A\", \"B\", \"C\"]`  \n",
        "- Sample outcome: `\"B\"`  \n",
        "- One-Hot: `[0, 1, 0]`\n"
      ]
    },
    {
      "cell_type": "code",
      "execution_count": null,
      "metadata": {
        "colab": {
          "base_uri": "https://localhost:8080/"
        },
        "id": "hL8DaK8OgDey",
        "outputId": "9dc197f4-709b-4e8f-9d19-c1589dbee3ea"
      },
      "outputs": [
        {
          "output_type": "execute_result",
          "data": {
            "text/plain": [
              "array([[1., 0., 0.],\n",
              "       [0., 1., 0.],\n",
              "       [0., 0., 1.],\n",
              "       [1., 0., 0.],\n",
              "       [0., 1., 0.],\n",
              "       [0., 0., 1.],\n",
              "       [1., 0., 0.]])"
            ]
          },
          "metadata": {},
          "execution_count": 6
        }
      ],
      "source": [
        "# Example: One-hot encoding with sklearn\n",
        "from sklearn.preprocessing import OneHotEncoder\n",
        "import numpy as np\n",
        "\n",
        "# Example categorical samples\n",
        "samples = [\"A\", \"B\", \"C\", \"A\", \"B\", \"C\", \"A\"]\n",
        "\n",
        "# Reshape to column vector for encoder\n",
        "X = np.array(samples).reshape(-1, 1)\n",
        "\n",
        "encoder = OneHotEncoder(sparse_output=False)\n",
        "X_encoded = encoder.fit_transform(X)\n",
        "X_encoded\n"
      ]
    },
    {
      "cell_type": "markdown",
      "metadata": {
        "id": "rAelqXqpgHOh"
      },
      "source": [
        "## 3. Multinomial Distribution\n",
        "\n",
        "The **multinomial distribution** extends the categorical distribution to multiple trials.  \n",
        "- Instead of one outcome, we have `n` trials.  \n",
        "- The probability of each outcome depends on the categorical probabilities.  \n",
        "\n",
        "Example: Tossing a 3-sided die 20 times.\n"
      ]
    },
    {
      "cell_type": "code",
      "execution_count": null,
      "metadata": {
        "colab": {
          "base_uri": "https://localhost:8080/"
        },
        "id": "6PSttWo1gJ2R",
        "outputId": "ab46ff77-f1c1-446e-e7e4-b021936e6efc"
      },
      "outputs": [
        {
          "output_type": "execute_result",
          "data": {
            "text/plain": [
              "array([ 5,  5, 10])"
            ]
          },
          "metadata": {},
          "execution_count": 7
        }
      ],
      "source": [
        "# Example: Multinomial distribution with numpy\n",
        "\n",
        "# Define probability distribution over 3 categories\n",
        "probs = [0.2, 0.5, 0.3]  # must sum to 1\n",
        "n_trials = 20\n",
        "multinomial_sample = np.random.multinomial(n_trials, probs)\n",
        "multinomial_sample\n"
      ]
    },
    {
      "cell_type": "markdown",
      "metadata": {
        "id": "jdtCkPAjgPYc"
      },
      "source": [
        "## 4. Visualization of Categorical vs Multinomial Distribution\n",
        "We can visualize:\n",
        "\n",
        "1. **Categorical Distribution Simulation** — outcomes from repeated categorical trials.\n",
        "2. **Multinomial Distribution** — outcome counts over multiple trials."
      ]
    },
    {
      "cell_type": "code",
      "execution_count": null,
      "metadata": {
        "colab": {
          "base_uri": "https://localhost:8080/",
          "height": 938
        },
        "id": "iLN2otCZg7A3",
        "outputId": "01cb5757-e25b-4791-ae4f-bafbb089731e"
      },
      "outputs": [
        {
          "output_type": "display_data",
          "data": {
            "text/plain": [
              "<Figure size 1200x500 with 1 Axes>"
            ],
            "image/png": "[encoded data removed]"
          },
          "metadata": {}
        },
        {
          "output_type": "display_data",
          "data": {
            "text/plain": [
              "<Figure size 800x500 with 1 Axes>"
            ],
            "image/png": "[encoded data removed]"
          },
          "metadata": {}
        }
      ],
      "source": [
        "import matplotlib.pyplot as plt\n",
        "\n",
        "# Define categories and probabilities\n",
        "categories = [\"A\", \"B\", \"C\"]\n",
        "probs = [0.2, 0.5, 0.3]\n",
        "\n",
        "# Parameters\n",
        "n_trials = 1000\n",
        "results = np.random.choice(categories, size=n_trials, p=probs)\n",
        "\n",
        "# Count frequencies (Categorical simulation)\n",
        "counts = [np.sum(results == c) for c in categories]\n",
        "\n",
        "# Plot categorical simulation\n",
        "plt.figure(figsize=(12, 5))\n",
        "\n",
        "plt.subplot(1, 2, 1)\n",
        "plt.bar(categories, counts, color=\"skyblue\", edgecolor=\"black\")\n",
        "plt.title(\"Categorical Distribution Simulation\")\n",
        "plt.xlabel(\"Category\")\n",
        "plt.ylabel(\"Count\")\n",
        "\n",
        "import seaborn as sns\n",
        "\n",
        "# Run many multinomial experiments\n",
        "n_experiments = 500\n",
        "n_per_experiment = 20\n",
        "multi_samples = np.random.multinomial(n_per_experiment, probs, size=n_experiments)\n",
        "\n",
        "# Convert to DataFrame for plotting\n",
        "import pandas as pd\n",
        "df = pd.DataFrame(multi_samples, columns=categories)\n",
        "\n",
        "# Boxplot\n",
        "plt.figure(figsize=(8,5))\n",
        "sns.boxplot(data=df)\n",
        "plt.title(\"Distribution of Multinomial Counts Across Experiments\")\n",
        "plt.ylabel(\"Count per Category\")\n",
        "plt.show()\n",
        "\n"
      ]
    },
    {
      "cell_type": "markdown",
      "metadata": {
        "id": "ibuOozXngb9r"
      },
      "source": [
        "## 5. Summary\n",
        "\n",
        "- **Categorical Distribution** models a single trial with multiple categories.  \n",
        "- **One-Hot Encoding** represents categories numerically.  \n",
        "- **Multinomial Distribution** generalizes the categorical distribution to multiple trials.  \n",
        "\n",
        "These concepts are fundamental in probability, statistics, and machine learning when handling categorical data.\n"
      ]
    },
    {
      "cell_type": "markdown",
      "metadata": {
        "id": "yOpb5RbviIgK"
      },
      "source": [
        "# 6. Exercises\n",
        "### Exercise 1\n",
        "Create a categorical distribution with 4 categories of your choice and assign probabilities.  \n",
        "- Sample 20 outcomes.  \n",
        "- Print the frequency of each category.  "
      ]
    },
    {
      "cell_type": "code",
      "execution_count": 17,
      "metadata": {
        "id": "eK9eRQsyiUTB",
        "outputId": "40d2ee82-1fe0-45cc-d72a-765c1077ac53",
        "colab": {
          "base_uri": "https://localhost:8080/"
        }
      },
      "outputs": [
        {
          "output_type": "stream",
          "name": "stdout",
          "text": [
            "{'CRICKET': np.int64(7), 'BASEBALL': np.int64(2), 'PICKLEBALL': np.int64(7), 'TENNIS': np.int64(4)}\n"
          ]
        }
      ],
      "source": [
        "# Your code here\n",
        "categories = ['CRICKET', 'BASEBALL', 'PICKLEBALL', 'TENNIS']\n",
        "probabilities = [0.4, 0.1, 0.3, 0.2]\n",
        "samples = np.random.choice(categories, size=20, p=probabilities)\n",
        "frequency = {category: np.sum(samples == category) for category in categories}\n",
        "print(frequency)"
      ]
    },
    {
      "cell_type": "markdown",
      "metadata": {
        "id": "SYFdeL7Kitmu"
      },
      "source": [
        "### Exercise 2\n",
        "Using your sampled outcomes from Exercise 1, perform One-Hot Encoding.  \n",
        "- Show the first 5 encoded vectors.  \n"
      ]
    },
    {
      "cell_type": "code",
      "execution_count": 19,
      "metadata": {
        "id": "-ShrE8x2i3Bd",
        "outputId": "bc82b55f-6f8d-456d-86ec-5c4aa7d39788",
        "colab": {
          "base_uri": "https://localhost:8080/"
        }
      },
      "outputs": [
        {
          "output_type": "execute_result",
          "data": {
            "text/plain": [
              "array([[0., 0., 1., 0.],\n",
              "       [0., 0., 1., 0.],\n",
              "       [0., 0., 1., 0.],\n",
              "       [0., 0., 1., 0.],\n",
              "       [0., 1., 0., 0.]])"
            ]
          },
          "metadata": {},
          "execution_count": 19
        }
      ],
      "source": [
        "# Your code here\n",
        "X = np.array(samples).reshape(-1, 1)\n",
        "\n",
        "encoder = OneHotEncoder(sparse_output=False)\n",
        "X_encoded = encoder.fit_transform(X)\n",
        "X_encoded[:5]\n"
      ]
    },
    {
      "cell_type": "markdown",
      "metadata": {
        "id": "VMyepjb9i5V_"
      },
      "source": [
        "### Exercise 3\n",
        "Run 100 experiments of 10 trials each using the multinomial distribution.  \n",
        "- Record the counts.  \n",
        "- Compare the average counts to the theoretical probabilities.  \n"
      ]
    },
    {
      "cell_type": "code",
      "execution_count": 20,
      "metadata": {
        "id": "vBtMx2K3jb0C"
      },
      "outputs": [],
      "source": [
        "# Your code here\n"
      ]
    },
    {
      "cell_type": "markdown",
      "metadata": {
        "id": "xPaC97Dfjdaw"
      },
      "source": [
        "### Exercise 4\n",
        "Plot a histogram showing the distribution of counts for one category (e.g., \"B\") across multiple multinomial experiments.  \n",
        "- What shape does the histogram resemble?  \n",
        "- Why do you think that is?  \n"
      ]
    },
    {
      "cell_type": "code",
      "execution_count": null,
      "metadata": {
        "id": "PMghTCBDjj-d"
      },
      "outputs": [],
      "source": [
        "# Your code here"
      ]
    },
    {
      "cell_type": "markdown",
      "metadata": {
        "id": "i3DQwMifjote"
      },
      "source": [
        "Enter response here"
      ]
    },
    {
      "cell_type": "markdown",
      "metadata": {
        "id": "NQJVZL7ZjeOb"
      },
      "source": [
        "### Exercise 5\n",
        "Answer in text (2–3 sentences each):\n",
        "\n",
        "1. How does the categorical distribution differ from the multinomial distribution?  \n",
        "2. Why is One-Hot encoding important for machine learning models?  \n",
        "3. If you increased the number of trials in the multinomial distribution, what would happen to the observed frequencies? Why?\n"
      ]
    },
    {
      "cell_type": "markdown",
      "metadata": {
        "id": "kuT6izLcjszA"
      },
      "source": [
        "Enter response here"
      ]
    }
  ],
  "metadata": {
    "colab": {
      "provenance": []
    },
    "kernelspec": {
      "display_name": "Python 3",
      "name": "python3"
    },
    "language_info": {
      "name": "python"
    }
  },
  "nbformat": 4,
  "nbformat_minor": 0
}